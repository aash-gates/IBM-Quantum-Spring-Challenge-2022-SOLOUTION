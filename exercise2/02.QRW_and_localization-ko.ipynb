{
 "cells": [
  {
   "cell_type": "code",
   "execution_count": null,
   "id": "bfb1c3bf",
   "metadata": {},
   "outputs": [],
   "source": [
    "%load_ext autoreload\n",
    "%autoreload 2\n",
    "\n",
    "import numpy as np\n",
    "import matplotlib.pyplot as plt\n",
    "\n",
    "# Importing standard Qiskit libraries\n",
    "from qiskit import QuantumCircuit, QuantumRegister, ClassicalRegister, transpile, Aer, IBMQ, execute\n",
    "from qiskit.tools.jupyter import *\n",
    "from qiskit.visualization import *\n",
    "from qiskit.providers.aer import QasmSimulator\n",
    "from tqdm.notebook import tqdm\n",
    "\n",
    "from qiskit.providers.aer import QasmSimulator\n",
    "from qiskit.tools.monitor import job_monitor\n",
    "from qiskit.circuit import Parameter\n",
    "import qiskit.quantum_info as qi\n",
    "\n",
    "from qc_grader.challenges.spring_2022.helpers import generate_XX, generate_YY, generate_disordered_tb_instruction\n",
    "\n",
    "# Suppress warnings\n",
    "import warnings\n",
    "warnings.filterwarnings('ignore')"
   ]
  },
  {
   "cell_type": "code",
   "execution_count": null,
   "id": "59c6e564",
   "metadata": {},
   "outputs": [],
   "source": [
    "t = Parameter('t')"
   ]
  },
  {
   "cell_type": "code",
   "execution_count": null,
   "id": "96c7342b",
   "metadata": {},
   "outputs": [],
   "source": [
    "XX = generate_XX(t)\n",
    "YY = generate_YY(t)"
   ]
  },
  {
   "cell_type": "markdown",
   "id": "7ead4055",
   "metadata": {},
   "source": [
    "# 5 격자점 밀접 결합 격자\n",
    "\n",
    "이 연습는 5개의 격자점이 있는 밀접 결합 격자를 시뮬레이션 해보도록 하겠습니다. 모든 격자점이 동일한 에너지 값을 지니는 밀접 결합 해밀토니안을 살펴보는 것부터 시작해 보겠습니다. 지난 연습에서 배운내용을 환기하여 5 격자점 밀접 결합 격자의 해밀토니언을 작성해 봅시다.\n",
    "\n",
    "$$H_{\\rm tb}/\\hbar = J \\sum^{3} _{i=0} (X_i X_{i+1} + Y_i Y_{i+1})$$\n",
    "\n",
    "이번 도전을 위해, 일반성을 잃지 않고, $\\hbar=1$ 및 $J=1$로 설정합니다."
   ]
  },
  {
   "cell_type": "markdown",
   "id": "602787d4",
   "metadata": {},
   "source": [
    "## 1. 입자 수송\n",
    "\n",
    "밀접 결합 시스템에서 입자의 전파(propagation)는 연속 시간 양자 무작위 걷기(Quantum random walk)로 설명할 수 있습니다. 양자 무작위 걷기는 고전적인 무작위 걷기의 양자 역학적인 대응입니다. 무작위 걷기는 무작위로 움직이는 입자가 시작점에서 멀어지는 과정입니다. 고전적 무작위 걷기에서 시간 $t$에 시작점에서 $r$만큼 떨어진 위치에서 입자를 찾을 확률은 다음과 같이 가우스 분포를 따릅니다. $$ p_{\\text{classical}}(r,t) \\propto e^{-|r|^2/t} $$. 이 확률 분포의 표준 편차는 시간이 지남에 따라 제곱근으로 증가합니다: $\\sigma_{\\text{classical}}= \\sqrt{t}$. 단일 입자에서 발생하는 중첩 및 간섭과 같은 양자 속성으로 인해 고전적 무작위 걷기와 양자 무작위 걷기 간의 질적인 차이가 발생합니다. 양자 무작위 걷기에서 시작점에서 $r$만큼 떨어진 위치에 있는 입자를 찾을 확률은 [제1종 베셀 함수를](https://en.wikipedia.org/wiki/Bessel_function) 따릅니다: $$ p_{\\text{quantum}}(r,t) \\propto |J_r( 2t)|^2 $$. 이 확률 분포의 표준 편차는 시간에 따라 선형적으로 증가합니다: $\\sigma_{\\text{quantum}} = t$."
   ]
  },
  {
   "cell_type": "code",
   "execution_count": null,
   "id": "f9b9e492",
   "metadata": {},
   "outputs": [],
   "source": [
    "from scipy.special import jv\n",
    "\n",
    "t_test = 20\n",
    "r = np.linspace(-50,50,101)\n",
    "gaussian = np.exp(-r**2/t_test) / np.sum(np.exp(-r**2/t_test))\n",
    "bessel = np.abs(jv(r,2*t_test))**2 / np.sum(np.abs(jv(r,2*t_test))**2)\n",
    "\n",
    "plt.plot(r, gaussian, label=r'Gaussian function')\n",
    "plt.plot(r, bessel, label=r'Bessel function')\n",
    "\n",
    "plt.xlabel('Position')\n",
    "plt.ylabel('Probability density')\n",
    "plt.legend()\n",
    "plt.show()"
   ]
  },
  {
   "cell_type": "markdown",
   "id": "a518b710",
   "metadata": {},
   "source": [
    "격자 전체에 걸쳐 발생하는 입자의 공간 전파는 초기 위치와 관련하여 제곱 평균 변위(Mean square displacement) $⟨x^2⟩= \\sum_i p_i x^2_i$로 양을 정의할 수 있으며, 여기서 $p_i$는 격자점 $i$에서 입자를 찾을 확률을 나타탭니다. 고전적인 무작위 걷기는 $⟨x^2⟩ \\propto t$로 시간에 따라 확산 전파되는 반면 QRW는 평균 제곱 변위 $⟨x^2⟩ \\propto t^2$로 탄도 전파(ballistic propagation)의 특성을 보입니다.\n",
    "\n",
    "고전적 무작위 걷기와 비교하여 양자 무작위 걷기의 이차(quadratic) 속도 향상은 Grover 검색 알고리즘이 고전적 검색에 비해 이차 속도 향상을 갖는 것과 유사합니다."
   ]
  },
  {
   "cell_type": "markdown",
   "id": "ec87b2c1",
   "metadata": {},
   "source": [
    "<div class=\"alert alert-block alert-danger\">\n",
    "\n",
    "<b>도전 질문 2a</b>\n",
    "밀접 결합 해밀토니언의 trotterized 시간적 변화의 양자 계산을 위해 XX 및 YY 게이트를 회로에 추가해 봅시다.\n",
    "</div>"
   ]
  },
  {
   "cell_type": "code",
   "execution_count": null,
   "id": "856cffad",
   "metadata": {
    "tags": []
   },
   "outputs": [],
   "source": [
    "num_qubits = 5 ## DO NOT EDIT\n",
    "\n",
    "Trot_tb_qr = QuantumRegister(num_qubits)\n",
    "Trot_tb_qc = QuantumCircuit(Trot_tb_qr, name='Trot')\n",
    "\n",
    "###EDIT CODE BELOW\n",
    "\n",
    "\n",
    "\n",
    "###DO NOT EDIT BELOW\n",
    "\n",
    "Trot_tb_gate = Trot_tb_qc.to_instruction()\n",
    "\n",
    "Trot_tb_qc.draw()"
   ]
  },
  {
   "cell_type": "code",
   "execution_count": null,
   "id": "4ad99f50",
   "metadata": {},
   "outputs": [],
   "source": [
    "## Grade and submit your solution\n",
    "from qc_grader.challenges.spring_2022 import grade_ex2a\n",
    "\n",
    "grade_ex2a(Trot_tb_qc)\n"
   ]
  },
  {
   "cell_type": "markdown",
   "id": "d7f7065f",
   "metadata": {},
   "source": [
    "<div class=\"alert alert-block alert-danger\">\n",
    "\n",
    "<b data-md-type=\"raw_html\">도전 질문 2b</b>\n",
    "이어서, 들뜸 형태의 입자를 추가해 봅시다. 해밀토니언에 시간적 변화를 일으키기 전, 큐비트에  𝑋 게이트를 적용해 |0⟩에서 |1⟩으로 상태를 뒤집어서 준비합니다.\n",
    "</div>"
   ]
  },
  {
   "cell_type": "code",
   "execution_count": null,
   "id": "e6591d9f",
   "metadata": {},
   "outputs": [],
   "source": [
    "delta_t=0.15 # DO NOT EDIT\n",
    "time_steps=np.arange(1,20,1) # DO NOT EDIT\n",
    "\n",
    "circuits=[]\n",
    "\n",
    "for n_steps in time_steps:\n",
    "    \n",
    "    qr = QuantumRegister(num_qubits)\n",
    "    cr = ClassicalRegister(num_qubits)\n",
    "    qc = QuantumCircuit(qr,cr)\n",
    "\n",
    "    ###EDIT CODE BELOW\n",
    "    \n",
    "    ###DO NOT EDIT BELOW\n",
    "    \n",
    "    for _ in range(n_steps):\n",
    "        qc.append(Trot_tb_gate, [i for i in range(num_qubits)])\n",
    "        \n",
    "    qc = qc.bind_parameters({t: delta_t})\n",
    "    \n",
    "    circuits.append(qc)"
   ]
  },
  {
   "cell_type": "markdown",
   "id": "cd98d23b",
   "metadata": {},
   "source": [
    "매 시간 단계마다 각각 큐비트에서 들뜬 상태를 찾을 확률을 추적하여 입자의 위치를 추적해 봅시다. "
   ]
  },
  {
   "cell_type": "markdown",
   "id": "119e0b6a",
   "metadata": {},
   "source": [
    "<div class=\"alert alert-block alert-danger\">\n",
    "<b>도전 질문 2c</b>\n",
    "먼저, statevector_simulator의 출력 상태를 사용해 매 시간단계에서 각각의 큐비트가 $|1\\rangle$의 상태에 있을 확률을 추출합니다.\n",
    "</div>"
   ]
  },
  {
   "cell_type": "code",
   "execution_count": null,
   "id": "6df3e206",
   "metadata": {
    "tags": []
   },
   "outputs": [],
   "source": [
    "from qiskit import transpile\n",
    "\n",
    "# Use Aer's qasm_simulator\n",
    "from qiskit import Aer\n",
    "\n",
    "# Run the quantum circuit on a statevector simulator backend\n",
    "backend_sim = Aer.get_backend('statevector_simulator')\n",
    "\n",
    "probability_density=[]\n",
    "for circ in tqdm(circuits):\n",
    "\n",
    "    transpiled_circ=transpile(circ, backend_sim, optimization_level=3)\n",
    "\n",
    "    job_sim = backend_sim.run(transpiled_circ)\n",
    "\n",
    "    # Grab the results from the job.\n",
    "    result_sim = job_sim.result()\n",
    "    outputstate = result_sim.get_statevector(transpiled_circ, decimals=5)\n",
    "    \n",
    "    ps=[]\n",
    "    \n",
    "    ###EDIT CODE BELOW (Extract the probability of finding the excitation on each qubit)\n",
    "    \n",
    "    ###DO NOT EDIT BELOW\n",
    "    \n",
    "    probability_density.append(ps)\n",
    "    \n",
    "probability_density=np.array(probability_density)"
   ]
  },
  {
   "cell_type": "code",
   "execution_count": null,
   "id": "209c2682",
   "metadata": {},
   "outputs": [],
   "source": [
    "plt.figure(figsize=(3,5), facecolor='white')\n",
    "plt.pcolormesh(np.arange(0,num_qubits,1), time_steps*delta_t, probability_density)\n",
    "plt.xlabel('Qubit index')\n",
    "plt.ylabel('Time (1/J)')"
   ]
  },
  {
   "cell_type": "code",
   "execution_count": null,
   "id": "2ae0a135",
   "metadata": {},
   "outputs": [],
   "source": [
    "## Grade and submit your solution\n",
    "from qc_grader.challenges.spring_2022 import grade_ex2b\n",
    "\n",
    "grade_ex2b(probability_density)\n"
   ]
  },
  {
   "cell_type": "markdown",
   "id": "0e0a37ea",
   "metadata": {},
   "source": [
    "<div class=\"alert alert-block alert-info\">\n",
    "<b>하드웨어 챌린지 I</b>\n",
    "실제 하드웨어에서 양자 무작위 걷기를 위한 회로를 실행하고 각 큐비트에서 들뜬 상태를 찾을 확률을 추출합니다.\n",
    "</div>"
   ]
  },
  {
   "cell_type": "code",
   "execution_count": null,
   "id": "45e26ac9",
   "metadata": {},
   "outputs": [],
   "source": [
    "from qiskit.tools.monitor import job_monitor\n",
    "\n",
    "provider = IBMQ.load_account()\n",
    "provider = IBMQ.get_provider(hub='ibm-q-internal', group='deployed', project='default')\n",
    "backend = provider.get_backend('ibm_perth')"
   ]
  },
  {
   "cell_type": "code",
   "execution_count": null,
   "id": "cf4e86c6",
   "metadata": {},
   "outputs": [],
   "source": [
    "initial_layout=[0, 1, 3, 5, 6]\n",
    "\n",
    "hardware_transpiled_circuits=[]\n",
    "for circ in circuits:\n",
    "    \n",
    "    hardware_circ=circ\n",
    "    hardware_circ.measure(range(num_qubits), range(num_qubits))\n",
    "    hardware_transpiled_circuits.append(transpile(hardware_circ, backend, initial_layout=initial_layout, optimization_level=3))"
   ]
  },
  {
   "cell_type": "code",
   "execution_count": null,
   "id": "ef9d69a8",
   "metadata": {},
   "outputs": [],
   "source": [
    "shots=1024\n",
    "job = execute(hardware_transpiled_circuits, backend=backend, shots=shots)\n",
    "job_monitor(job)\n",
    "print('Job ID', job.job_id())"
   ]
  },
  {
   "cell_type": "code",
   "execution_count": null,
   "id": "de333d16",
   "metadata": {},
   "outputs": [],
   "source": [
    "experiment_results=job.result()\n",
    "\n",
    "probability_density_exp=[]\n",
    "for output in experiment_results.get_counts():\n",
    "    ps=[]\n",
    "    \n",
    "    ###EDIT CODE BELOW (Extract the probability of finding the excitation on each qubit)\n",
    "    \n",
    "    ###DO NOT EDIT BELOW\n",
    "    \n",
    "    probability_density_exp.append(ps)\n",
    "\n",
    "plt.figure(figsize=(3,5), facecolor='white')\n",
    "plt.pcolormesh(np.arange(-.5,num_qubits,1), time_steps*delta_t, probability_density_exp)\n",
    "plt.xlabel('Qubit index')\n",
    "plt.ylabel('Time (1/J)')"
   ]
  },
  {
   "cell_type": "markdown",
   "id": "dfdccdc9",
   "metadata": {},
   "source": [
    "## 2. 앤더슨 국소화(Anderson localization)\n",
    "\n",
    "격자점 에너지에 무질서가 유입되면 앤더슨 국소화로 이어져 입자의 전파가 크게 영향을 받게 됩니다. 격자의 비균질성은 산란을 일으키고 입자 전파를 억제하는 특성을 지니는 양자 간섭을 일으키는데 이는 국소화가 발생할때의 특징입니다. 국소화된 입자의 파동 함수는 입자의 초기 위치에서 멀어질수록 빠르게 감소하므로 입자를 격자의 작은 영역에 머물도록 제한하게 됩니다.\n",
    "\n",
    "Phillip Anderson은 1958년에 무질서로인한 산란이 수송을 완전히 멈출 수 있다고 처음으로 제안했습니다[1]. Anderson의 발견 이전에 과학자들은 전자를 점과 같은 입자로 취급하여, 결정의 무질서를 무작위로 전자를 산란시키는 섭동(perturbation)으로 모델링했습니다. 이 논리는 브라운 운동과 같은 매체에서의 운송에 대한 이론으로 이어졌으며 이 이론은 옴의 법칙의 기초가 되었습니다. 그러나 Anderson은 주기적인 결정에서 전자의 파동함수의 진화에 무질서가 미치는 영향을 재검토했습니다[1]. Anderson은 양자 영역에서 문제를 분석하여, 전자의 파동 특성을 근본적으로 고려함으로서 전자의 고전적인 확산 움직임이, 광범위한 조건에서 전자 파동 함수가 기하급수적으로 국지화됨에 따라 더이상 들어맞지 않게 된다는 것을 발견했습니다. 따라서, 전자가 초기에 한 원자에 존재한다면, 파동함수는 시간이 지나도 더 이상 전체 결정을 덮을 정도로 확장되지 않으며, 오히려 초기 위치 주변에 국한된 상태로 유지됩니다. 따라서 물질은 전하의 전도를 멈추고 결국 절연체가 됩니다. 이 국부화 현상은 격자 무질서에 의해 촉발되는 전자의 다중 산란에 의한 서로 다른 경로 간의 간섭이 만들어내는 직접적인 결과입니다.\n",
    "\n",
    "\n",
    "<div></div>\n",
    "<img src=\"attachment:Anderson_localization.jpg\" width=\"600\">[2]\n",
    "\n",
    "밀접 결합 해밀토니언을 사용하여 앤더슨 국소화를 연구할 수 있습니다. 격자점 에너지에 무질서가 존재할 때 해밀토니언은 다음 형식을 취합니다. $$H_{\\rm tb}/\\hbar = \\sum^{3}_{i=0} (X_i X_{i+1} + Y_i Y_{i+1}) + \\sum_i \\epsilon_i Z_i $$\n",
    "\n",
    "$\\epsilon_i$ 값을 변경하면 앤더슨 국소화로 이어지는 Aubry-Andre(AA) 준결정(quasicrystal)을 생성할 수 있고 이 과정을 통해 무질서를 모방할 수 있습니다. 이 격자 모델에서 $\\epsilon_i=W \\rm{cos}(2\\pi\\beta i)$이고 여기서 $W$는 무질서 강도이며 $\\beta$는 준결정의 주기성을 결정합니다.\n",
    "\n",
    "[1] https://physicstoday.scitation.org/doi/10.1063/1.3206091?feed=most-cited <br><br>[2] https://www.nature.com/articles/nphoton.2013.30"
   ]
  },
  {
   "cell_type": "code",
   "execution_count": null,
   "id": "f5f0dd33",
   "metadata": {},
   "outputs": [],
   "source": [
    "beta=(np.sqrt(5)-1)/2 # DO NOT EDIT\n",
    "AA_patern=np.cos(2*np.pi*beta*np.arange(num_qubits)) # DO NOT EDIT\n",
    "\n",
    "plt.plot(np.linspace(-0.5,4.5,101), np.cos(2*np.pi*beta*np.linspace(-0.5,4.5,101)), '--')\n",
    "plt.plot(np.arange(num_qubits), AA_patern, 'o', label=r'$\\epsilon_i$')\n",
    "plt.xlabel('Position')\n",
    "plt.ylabel('Energy')\n",
    "plt.legend()\n",
    "plt.title('Aubry-Andre potential')\n",
    "plt.show()"
   ]
  },
  {
   "cell_type": "markdown",
   "id": "6093e23a",
   "metadata": {},
   "source": [
    "<div class=\"alert alert-block alert-danger\">\n",
    "<b>도전 질문 2d</b>\n",
    "앤더슨 국소화를 시뮬레이션하는 데 사용되는 임의의 상태를 포함하도록 각 밀접 결합 trotter 단계를 수정합니다.\n",
    "</div>"
   ]
  },
  {
   "cell_type": "code",
   "execution_count": null,
   "id": "80d911a2",
   "metadata": {},
   "outputs": [],
   "source": [
    "Trot_qr_disorder = QuantumRegister(num_qubits)\n",
    "Trot_qc_disorder = QuantumCircuit(Trot_qr_disorder, name='Trot disorder')\n",
    "\n",
    "Trot_qc_disorder.append(Trot_tb_gate,[0,1,2,3,4])\n",
    "deltas=[Parameter('delta_{:d}'.format(idx)) for idx in range(num_qubits)]\n",
    "\n",
    "###EDIT CODE BELOW (add a parametric disorder to each qubit)\n",
    "\n",
    "\n",
    "###DO NOT EDIT BELOW\n",
    "    \n",
    "# Convert custom quantum circuit into a gate\n",
    "Trot_disorder_gate = Trot_qc_disorder.to_instruction()\n",
    "\n",
    "Trot_qc_disorder.draw()"
   ]
  },
  {
   "cell_type": "code",
   "execution_count": null,
   "id": "1bb58ae4",
   "metadata": {},
   "outputs": [],
   "source": [
    "delta_t=0.15\n",
    "time_steps=np.arange(1,20,1)\n",
    "\n",
    "W=2 # DO NOT EDIT\n",
    "\n",
    "disorders=W*AA_patern # DO NOT EDIT\n",
    "\n",
    "disorder_circuits=[]\n",
    "\n",
    "for n_steps in time_steps:\n",
    "\n",
    "    qr = QuantumRegister(num_qubits)\n",
    "    cr = ClassicalRegister(num_qubits)\n",
    "    qc = QuantumCircuit(qr, cr)\n",
    "\n",
    "    qc.x(0)\n",
    "    \n",
    "    for _ in range(n_steps):\n",
    "        qc.append(Trot_disorder_gate, [i for i in range(num_qubits)])\n",
    "\n",
    "    qc = qc.bind_parameters({t: delta_t})\n",
    "    qc = qc.bind_parameters({deltas[idx]: disorders[idx] for idx in range(num_qubits)})\n",
    "\n",
    "    disorder_circuits.append(qc)"
   ]
  },
  {
   "cell_type": "markdown",
   "id": "370f5dcf",
   "metadata": {},
   "source": [
    "<div class=\"alert alert-block alert-danger\">\n",
    "<b>도전 질문 2e</b>\n",
    "마지막으로, 각 큐비트에서 들뜸 상태를 찾을 확률을 추출합니다.\n",
    "</div>"
   ]
  },
  {
   "cell_type": "code",
   "execution_count": null,
   "id": "ea1a41ec",
   "metadata": {},
   "outputs": [],
   "source": [
    "from qiskit import transpile\n",
    "\n",
    "# Use Aer's qasm_simulator\n",
    "from qiskit import Aer\n",
    "\n",
    "# Run the quantum circuit on a statevector simulator backend\n",
    "backend_sim = Aer.get_backend('statevector_simulator')\n",
    "\n",
    "probability_density_localization=[]\n",
    "for circ in tqdm(disorder_circuits):\n",
    "\n",
    "    transpiled_circ=transpile(circ, backend_sim, optimization_level=3)\n",
    "\n",
    "    job_sim = backend_sim.run(transpiled_circ)\n",
    "\n",
    "    # Grab the results from the job.\n",
    "    result_sim = job_sim.result()\n",
    "    outputstate = result_sim.get_statevector(transpiled_circ, decimals=5)\n",
    "    \n",
    "    ps=[]\n",
    "    \n",
    "    ###EDIT CODE BELOW (Extract the probability of finding the excitation on each qubit)\n",
    "    \n",
    "    ###DO NOT EDIT BELOW\n",
    "    \n",
    "    probability_density_localization.append(ps)\n",
    "    \n",
    "probability_density_localization=np.array(probability_density_localization)"
   ]
  },
  {
   "cell_type": "code",
   "execution_count": null,
   "id": "db6f39b1",
   "metadata": {},
   "outputs": [],
   "source": [
    "plt.figure(figsize=(3,5), facecolor='white')\n",
    "plt.pcolormesh(np.arange(0,num_qubits,1), time_steps*delta_t ,probability_density_localization)\n",
    "plt.xlabel('Qubit index')\n",
    "plt.ylabel('Time (1/J)')"
   ]
  },
  {
   "cell_type": "code",
   "execution_count": null,
   "id": "c41bfc35",
   "metadata": {},
   "outputs": [],
   "source": [
    "## Grade and submit your solution\n",
    "from qc_grader.challenges.spring_2022 import grade_ex2c\n",
    "\n",
    "grade_ex2c(probability_density_localization)\n"
   ]
  },
  {
   "cell_type": "markdown",
   "id": "d8bea8de",
   "metadata": {},
   "source": [
    "<div class=\"alert alert-block alert-info\">\n",
    "<b>하드웨어 도전 II</b>\n",
    "실제 하드웨어에서 무질서가 있는 양자 무작위 걷기에 대한 회로를 실행하고 각 큐비트에서 들뜸 상태를 찾을 확률을 추출합니다.\n",
    "</div>"
   ]
  },
  {
   "cell_type": "code",
   "execution_count": null,
   "id": "75fe994e",
   "metadata": {},
   "outputs": [],
   "source": [
    "from qiskit.tools.monitor import job_monitor\n",
    "\n",
    "provider = IBMQ.load_account()\n",
    "provider = IBMQ.get_provider(hub='ibm-q-internal', group='deployed', project='default')\n",
    "backend = provider.get_backend('ibm_perth')"
   ]
  },
  {
   "cell_type": "code",
   "execution_count": null,
   "id": "e1d7178f",
   "metadata": {},
   "outputs": [],
   "source": [
    "initial_layout=[0, 1, 3, 5, 6]\n",
    "\n",
    "hardware_transpiled_circuits_disordered=[]\n",
    "for circ in disorder_circuits:\n",
    "    \n",
    "    hardware_circ=circ\n",
    "    hardware_circ.measure(range(num_qubits), range(num_qubits))\n",
    "    hardware_transpiled_circuits_disordered.append(transpile(hardware_circ, backend, initial_layout=initial_layout, optimization_level=3))"
   ]
  },
  {
   "cell_type": "code",
   "execution_count": null,
   "id": "ca73740a",
   "metadata": {},
   "outputs": [],
   "source": [
    "shots=1024\n",
    "job_disorder = execute(hardware_transpiled_circuits_disordered, backend=backend, shots=shots)\n",
    "job_monitor(job_disorder)\n",
    "print('Job ID', job_disorder.job_id())"
   ]
  },
  {
   "cell_type": "code",
   "execution_count": null,
   "id": "7fa43500",
   "metadata": {},
   "outputs": [],
   "source": [
    "disorder_experiment_results=job_disorder.result()\n",
    "\n",
    "disorder_probability_density_exp=[]\n",
    "for output in disorder_experiment_results.get_counts():\n",
    "    ps=[]\n",
    "    \n",
    "    ###EDIT CODE BELOW (Extract the probability of finding the excitation on each qubit)\n",
    "    \n",
    "    ###DO NOT EDIT BELOW\n",
    "    \n",
    "    disorder_probability_density_exp.append(ps)\n",
    "    \n",
    "plt.figure(figsize=(3,5), facecolor='white')\n",
    "plt.pcolormesh(np.arange(-.5,num_qubits,1), time_steps*delta_t, disorder_probability_density_exp)\n",
    "plt.xlabel('Qubit index')\n",
    "plt.ylabel('Time (1/J)')"
   ]
  },
  {
   "cell_type": "markdown",
   "id": "945d54bd",
   "metadata": {},
   "source": [
    "## 추가 정보\n",
    "\n",
    "**한글화:** 김경훈, 신소영"
   ]
  },
  {
   "cell_type": "code",
   "execution_count": null,
   "id": "c14058af",
   "metadata": {},
   "outputs": [],
   "source": []
  }
 ],
 "metadata": {
  "kernelspec": {
   "display_name": "Python 3 (ipykernel)",
   "language": "python",
   "name": "python3"
  },
  "language_info": {
   "codemirror_mode": {
    "name": "ipython",
    "version": 3
   },
   "file_extension": ".py",
   "mimetype": "text/x-python",
   "name": "python",
   "nbconvert_exporter": "python",
   "pygments_lexer": "ipython3",
   "version": "3.9.7"
  },
  "widgets": {
   "application/vnd.jupyter.widget-state+json": {
    "state": {
     "052176b2ee974c6d8f8d838263b618c8": {
      "model_module": "@jupyter-widgets/base",
      "model_module_version": "1.2.0",
      "model_name": "LayoutModel",
      "state": {}
     },
     "0c6ea2fca4b34b67a852691c842fbbd0": {
      "model_module": "@jupyter-widgets/base",
      "model_module_version": "1.2.0",
      "model_name": "LayoutModel",
      "state": {}
     },
     "0d009c7b8e2e4458aca595f0e4de1013": {
      "model_module": "@jupyter-widgets/base",
      "model_module_version": "1.2.0",
      "model_name": "LayoutModel",
      "state": {}
     },
     "0d08a545ce724351b522f248b3defa02": {
      "model_module": "@jupyter-widgets/base",
      "model_module_version": "1.2.0",
      "model_name": "LayoutModel",
      "state": {
       "grid_area": "right",
       "padding": "0px 0px 0px 0px",
       "width": "70px"
      }
     },
     "106353014f974e8db1eeded4533b1c18": {
      "model_module": "@jupyter-widgets/controls",
      "model_module_version": "1.5.0",
      "model_name": "HBoxModel",
      "state": {
       "children": [
        "IPY_MODEL_8ebc5ea996ae45b18cbeb73b43124002",
        "IPY_MODEL_6f3ca75397f1439ebcf709f6d87a25c7",
        "IPY_MODEL_5173853f1e304316bcd1d987e60fd5d4"
       ],
       "layout": "IPY_MODEL_4983ff4f1fa648cdaa88737d46da82b0"
      }
     },
     "16967caf80c543f1984cc5a601f19d1f": {
      "model_module": "@jupyter-widgets/base",
      "model_module_version": "1.2.0",
      "model_name": "LayoutModel",
      "state": {}
     },
     "194b9e01ba724dba9b05e4da7cb63b23": {
      "model_module": "@jupyter-widgets/controls",
      "model_module_version": "1.5.0",
      "model_name": "HTMLModel",
      "state": {
       "layout": "IPY_MODEL_83caedfea659419fa188c4c5608d3e90",
       "style": "IPY_MODEL_6b7eb5f34813444dbc4511f88d0551aa",
       "value": "100%"
      }
     },
     "1ce7269bc59542d6a1df10dbe844baf4": {
      "model_module": "@jupyter-widgets/controls",
      "model_module_version": "1.5.0",
      "model_name": "HBoxModel",
      "state": {
       "children": [
        "IPY_MODEL_43342e9eb0ae4c69bfde47870412934d",
        "IPY_MODEL_29f83debd3aa42a7bce1fcba38201882",
        "IPY_MODEL_ab976d755e804b638453ff091faf8a3a"
       ],
       "layout": "IPY_MODEL_d54bffc0e66846b1b6cae6ab4f50e04a"
      }
     },
     "247f799904664a94bcc6c922c5bffa0a": {
      "model_module": "@jupyter-widgets/base",
      "model_module_version": "1.2.0",
      "model_name": "LayoutModel",
      "state": {}
     },
     "27f4ee77e6be4cb7a0e4181832e56dce": {
      "model_module": "@jupyter-widgets/base",
      "model_module_version": "1.2.0",
      "model_name": "LayoutModel",
      "state": {}
     },
     "29f83debd3aa42a7bce1fcba38201882": {
      "model_module": "@jupyter-widgets/controls",
      "model_module_version": "1.5.0",
      "model_name": "FloatProgressModel",
      "state": {
       "bar_style": "success",
       "layout": "IPY_MODEL_68b2604bdc4242a6ad550866d1165d0e",
       "max": 19,
       "style": "IPY_MODEL_bfadc8afed37469dbe385235d7982008",
       "value": 19
      }
     },
     "2cb795b030a541d88d402d5a62299397": {
      "model_module": "@jupyter-widgets/controls",
      "model_module_version": "1.5.0",
      "model_name": "HTMLModel",
      "state": {
       "layout": "IPY_MODEL_5ea5cf0153354ed29da1632c05d3e62b",
       "style": "IPY_MODEL_f436cd21995e42fdbe4f028fb53ee31b",
       "value": "<h5>Status</h5>"
      }
     },
     "3441f1ca9f854138bd89e353e3257974": {
      "model_module": "@jupyter-widgets/base",
      "model_module_version": "1.2.0",
      "model_name": "LayoutModel",
      "state": {}
     },
     "37489c5393bd4f02a40085313e718f09": {
      "model_module": "@jupyter-widgets/controls",
      "model_module_version": "1.5.0",
      "model_name": "ProgressStyleModel",
      "state": {
       "description_width": ""
      }
     },
     "3916df1c8a5b41eaa3f43dd5a795eaab": {
      "model_module": "@jupyter-widgets/controls",
      "model_module_version": "1.5.0",
      "model_name": "ButtonModel",
      "state": {
       "button_style": "primary",
       "description": "Clear",
       "layout": "IPY_MODEL_0d08a545ce724351b522f248b3defa02",
       "style": "IPY_MODEL_767fb608bc1f43ba8545629c929d2551"
      }
     },
     "3a00f285407b4107909788413e3a1aea": {
      "model_module": "@jupyter-widgets/controls",
      "model_module_version": "1.5.0",
      "model_name": "DescriptionStyleModel",
      "state": {
       "description_width": ""
      }
     },
     "42754ae660cc4aa2a36d8048d88bdef8": {
      "model_module": "@jupyter-widgets/controls",
      "model_module_version": "1.5.0",
      "model_name": "DescriptionStyleModel",
      "state": {
       "description_width": ""
      }
     },
     "43342e9eb0ae4c69bfde47870412934d": {
      "model_module": "@jupyter-widgets/controls",
      "model_module_version": "1.5.0",
      "model_name": "HTMLModel",
      "state": {
       "layout": "IPY_MODEL_aed6847d948f4f55aaab4cc5098d3615",
       "style": "IPY_MODEL_3a00f285407b4107909788413e3a1aea",
       "value": "100%"
      }
     },
     "45d7c7324d0b4597b39aed25f36494a9": {
      "model_module": "@jupyter-widgets/controls",
      "model_module_version": "1.5.0",
      "model_name": "HTMLModel",
      "state": {
       "layout": "IPY_MODEL_27f4ee77e6be4cb7a0e4181832e56dce",
       "style": "IPY_MODEL_bcb286ab4b5c4326bfa95e7561d46b52",
       "value": " 19/19 [00:14&lt;00:00,  1.21s/it]"
      }
     },
     "4983ff4f1fa648cdaa88737d46da82b0": {
      "model_module": "@jupyter-widgets/base",
      "model_module_version": "1.2.0",
      "model_name": "LayoutModel",
      "state": {}
     },
     "4c4c1d2d617d430197971567de48ab63": {
      "model_module": "@jupyter-widgets/controls",
      "model_module_version": "1.5.0",
      "model_name": "DescriptionStyleModel",
      "state": {
       "description_width": ""
      }
     },
     "4e213e51158a4aff9c12d5b12a8b9e16": {
      "model_module": "@jupyter-widgets/controls",
      "model_module_version": "1.5.0",
      "model_name": "ProgressStyleModel",
      "state": {
       "description_width": ""
      }
     },
     "5173853f1e304316bcd1d987e60fd5d4": {
      "model_module": "@jupyter-widgets/controls",
      "model_module_version": "1.5.0",
      "model_name": "HTMLModel",
      "state": {
       "layout": "IPY_MODEL_fec1ae0cb23a47249064469b5fbb2459",
       "style": "IPY_MODEL_ee8880967198437e9f902924fc61a501",
       "value": " 19/19 [00:15&lt;00:00,  1.44s/it]"
      }
     },
     "53ddd07906b944118ebb83339a886186": {
      "model_module": "@jupyter-widgets/controls",
      "model_module_version": "1.5.0",
      "model_name": "GridBoxModel",
      "state": {
       "children": [
        "IPY_MODEL_3916df1c8a5b41eaa3f43dd5a795eaab"
       ],
       "layout": "IPY_MODEL_f1842add6a74462c88e3f45db4251f59"
      }
     },
     "54a5ca6011c64ea4a3a43305769de737": {
      "model_module": "@jupyter-widgets/base",
      "model_module_version": "1.2.0",
      "model_name": "LayoutModel",
      "state": {}
     },
     "5ea5cf0153354ed29da1632c05d3e62b": {
      "model_module": "@jupyter-widgets/base",
      "model_module_version": "1.2.0",
      "model_name": "LayoutModel",
      "state": {
       "width": "95px"
      }
     },
     "5ec4170975fb479a9d75a61647fe89d8": {
      "model_module": "@jupyter-widgets/controls",
      "model_module_version": "1.5.0",
      "model_name": "HTMLModel",
      "state": {
       "layout": "IPY_MODEL_eabd05f3bfff4cada4ebbe21e197f066",
       "style": "IPY_MODEL_c7b97669870b46d7a4970faf92789da5",
       "value": " 19/19 [00:14&lt;00:00,  1.29s/it]"
      }
     },
     "5f06f10b5ce14fb4839e5cf7ae02a404": {
      "model_module": "@jupyter-widgets/base",
      "model_module_version": "1.2.0",
      "model_name": "LayoutModel",
      "state": {}
     },
     "665ee33557c94aacb4036c661e0f8c90": {
      "model_module": "@jupyter-widgets/base",
      "model_module_version": "1.2.0",
      "model_name": "LayoutModel",
      "state": {}
     },
     "68b2604bdc4242a6ad550866d1165d0e": {
      "model_module": "@jupyter-widgets/base",
      "model_module_version": "1.2.0",
      "model_name": "LayoutModel",
      "state": {}
     },
     "6918c3a0649240408d225f03fc95ed12": {
      "model_module": "@jupyter-widgets/controls",
      "model_module_version": "1.5.0",
      "model_name": "HTMLModel",
      "state": {
       "layout": "IPY_MODEL_b8812dd43a2c4a139bc5ff6d242acbc2",
       "style": "IPY_MODEL_daecbc68db5540c4998c0512d51c62a2",
       "value": "100%"
      }
     },
     "6b7eb5f34813444dbc4511f88d0551aa": {
      "model_module": "@jupyter-widgets/controls",
      "model_module_version": "1.5.0",
      "model_name": "DescriptionStyleModel",
      "state": {
       "description_width": ""
      }
     },
     "6dbed0b825d742f385357fbce977bbad": {
      "model_module": "@jupyter-widgets/base",
      "model_module_version": "1.2.0",
      "model_name": "LayoutModel",
      "state": {}
     },
     "6f3ca75397f1439ebcf709f6d87a25c7": {
      "model_module": "@jupyter-widgets/controls",
      "model_module_version": "1.5.0",
      "model_name": "FloatProgressModel",
      "state": {
       "bar_style": "success",
       "layout": "IPY_MODEL_5f06f10b5ce14fb4839e5cf7ae02a404",
       "max": 19,
       "style": "IPY_MODEL_7586f328f2a14b53ad04e16de9ea7e63",
       "value": 19
      }
     },
     "713d13fa1b594bc1a05d783df1e6ecf3": {
      "model_module": "@jupyter-widgets/controls",
      "model_module_version": "1.5.0",
      "model_name": "ProgressStyleModel",
      "state": {
       "description_width": ""
      }
     },
     "747983a0a77649828c5401dc82c3262c": {
      "model_module": "@jupyter-widgets/controls",
      "model_module_version": "1.5.0",
      "model_name": "FloatProgressModel",
      "state": {
       "bar_style": "success",
       "layout": "IPY_MODEL_247f799904664a94bcc6c922c5bffa0a",
       "max": 19,
       "style": "IPY_MODEL_ec403b2585c64fa3bda720b13149467a",
       "value": 19
      }
     },
     "7586f328f2a14b53ad04e16de9ea7e63": {
      "model_module": "@jupyter-widgets/controls",
      "model_module_version": "1.5.0",
      "model_name": "ProgressStyleModel",
      "state": {
       "description_width": ""
      }
     },
     "767fb608bc1f43ba8545629c929d2551": {
      "model_module": "@jupyter-widgets/controls",
      "model_module_version": "1.5.0",
      "model_name": "ButtonStyleModel",
      "state": {}
     },
     "7b457ac19f94469d817a991af1be2cb3": {
      "model_module": "@jupyter-widgets/base",
      "model_module_version": "1.2.0",
      "model_name": "LayoutModel",
      "state": {
       "width": "70px"
      }
     },
     "7be644709b4b4eb49146b024fc2037e1": {
      "model_module": "@jupyter-widgets/controls",
      "model_module_version": "1.5.0",
      "model_name": "DescriptionStyleModel",
      "state": {
       "description_width": ""
      }
     },
     "7ec0c3f2e8b8438f94536afa77d03435": {
      "model_module": "@jupyter-widgets/base",
      "model_module_version": "1.2.0",
      "model_name": "LayoutModel",
      "state": {}
     },
     "7f434f6ba0ed4b4fb2501ca7bd1c4a20": {
      "model_module": "@jupyter-widgets/controls",
      "model_module_version": "1.5.0",
      "model_name": "HTMLModel",
      "state": {
       "layout": "IPY_MODEL_7b457ac19f94469d817a991af1be2cb3",
       "style": "IPY_MODEL_c581c3d9484742c6a64ca9a0cc27c3aa",
       "value": "<h5>Queue</h5>"
      }
     },
     "83caedfea659419fa188c4c5608d3e90": {
      "model_module": "@jupyter-widgets/base",
      "model_module_version": "1.2.0",
      "model_name": "LayoutModel",
      "state": {}
     },
     "849b068760c54dc4a0424ae86959c8ee": {
      "model_module": "@jupyter-widgets/controls",
      "model_module_version": "1.5.0",
      "model_name": "HTMLModel",
      "state": {
       "layout": "IPY_MODEL_bed56eca24c843f2acde831cdbc1f387",
       "style": "IPY_MODEL_c6483e34fd73452f8de17a4eb21f9355",
       "value": "<p style='font-family: IBM Plex Sans, Arial, Helvetica, sans-serif; font-size: 20px; font-weight: medium;'>Circuit Properties</p>"
      }
     },
     "87ee4526294f430bac6a6bd5bf1c29f2": {
      "model_module": "@jupyter-widgets/controls",
      "model_module_version": "1.5.0",
      "model_name": "HBoxModel",
      "state": {
       "children": [
        "IPY_MODEL_a0bc392d24f14fd6804ac0817466b087",
        "IPY_MODEL_d9d5f480475143f381fff267b5cd583e",
        "IPY_MODEL_45d7c7324d0b4597b39aed25f36494a9"
       ],
       "layout": "IPY_MODEL_97fe8249879a458ca6640964df9c8a64"
      }
     },
     "8cc3a97e9b9a4d9a85ef4c5fa49e24ce": {
      "model_module": "@jupyter-widgets/controls",
      "model_module_version": "1.5.0",
      "model_name": "DescriptionStyleModel",
      "state": {
       "description_width": ""
      }
     },
     "8dd40d23449f4e8ebf1d98aad5cc5c53": {
      "model_module": "@jupyter-widgets/controls",
      "model_module_version": "1.5.0",
      "model_name": "HBoxModel",
      "state": {
       "children": [
        "IPY_MODEL_194b9e01ba724dba9b05e4da7cb63b23",
        "IPY_MODEL_747983a0a77649828c5401dc82c3262c",
        "IPY_MODEL_5ec4170975fb479a9d75a61647fe89d8"
       ],
       "layout": "IPY_MODEL_7ec0c3f2e8b8438f94536afa77d03435"
      }
     },
     "8e91d1057486424ea526261066f51668": {
      "model_module": "@jupyter-widgets/controls",
      "model_module_version": "1.5.0",
      "model_name": "HTMLModel",
      "state": {
       "layout": "IPY_MODEL_16967caf80c543f1984cc5a601f19d1f",
       "style": "IPY_MODEL_8cc3a97e9b9a4d9a85ef4c5fa49e24ce",
       "value": "100%"
      }
     },
     "8ebc5ea996ae45b18cbeb73b43124002": {
      "model_module": "@jupyter-widgets/controls",
      "model_module_version": "1.5.0",
      "model_name": "HTMLModel",
      "state": {
       "layout": "IPY_MODEL_f0865125a5c443ec9acbb4206e0d440f",
       "style": "IPY_MODEL_fc05184de60644bfa374ef6a30648eb7",
       "value": "100%"
      }
     },
     "9521df6b4b874cbe8f0184384a5c0da6": {
      "model_module": "@jupyter-widgets/controls",
      "model_module_version": "1.5.0",
      "model_name": "HTMLModel",
      "state": {
       "layout": "IPY_MODEL_99961f7543854b20a93717c56440c993",
       "style": "IPY_MODEL_7be644709b4b4eb49146b024fc2037e1",
       "value": "<h5>Job ID</h5>"
      }
     },
     "97fe8249879a458ca6640964df9c8a64": {
      "model_module": "@jupyter-widgets/base",
      "model_module_version": "1.2.0",
      "model_name": "LayoutModel",
      "state": {}
     },
     "99961f7543854b20a93717c56440c993": {
      "model_module": "@jupyter-widgets/base",
      "model_module_version": "1.2.0",
      "model_name": "LayoutModel",
      "state": {
       "width": "190px"
      }
     },
     "9ac9b005eb77436cb977562f4ddcf4f0": {
      "model_module": "@jupyter-widgets/controls",
      "model_module_version": "1.5.0",
      "model_name": "HTMLModel",
      "state": {
       "layout": "IPY_MODEL_cc2da57ba01d4b8c9fa7710abfeb767c",
       "style": "IPY_MODEL_f390402ce5244916803bd63f10d20442",
       "value": "<h5>Message</h5>"
      }
     },
     "9e0507e2443a4fa6b64742b3c7e371b5": {
      "model_module": "@jupyter-widgets/controls",
      "model_module_version": "1.5.0",
      "model_name": "HBoxModel",
      "state": {
       "children": [
        "IPY_MODEL_6918c3a0649240408d225f03fc95ed12",
        "IPY_MODEL_c20cac611240432ca6cb2dd0b9a5812b",
        "IPY_MODEL_b0f6ea596da343019f53d964dcb875ac"
       ],
       "layout": "IPY_MODEL_3441f1ca9f854138bd89e353e3257974"
      }
     },
     "9f36996135a640238f10369fb92e31d9": {
      "model_module": "@jupyter-widgets/controls",
      "model_module_version": "1.5.0",
      "model_name": "HTMLModel",
      "state": {
       "layout": "IPY_MODEL_052176b2ee974c6d8f8d838263b618c8",
       "style": "IPY_MODEL_b01fd642199244f2951baa39d7d2c85b",
       "value": " 19/19 [00:15&lt;00:00,  1.31s/it]"
      }
     },
     "a0bc392d24f14fd6804ac0817466b087": {
      "model_module": "@jupyter-widgets/controls",
      "model_module_version": "1.5.0",
      "model_name": "HTMLModel",
      "state": {
       "layout": "IPY_MODEL_b615a8758a6a44e890a5c7900955d58e",
       "style": "IPY_MODEL_d4a32a31ffd6424da20f06785ba747fc",
       "value": "100%"
      }
     },
     "ab976d755e804b638453ff091faf8a3a": {
      "model_module": "@jupyter-widgets/controls",
      "model_module_version": "1.5.0",
      "model_name": "HTMLModel",
      "state": {
       "layout": "IPY_MODEL_0d009c7b8e2e4458aca595f0e4de1013",
       "style": "IPY_MODEL_42754ae660cc4aa2a36d8048d88bdef8",
       "value": " 19/19 [00:15&lt;00:00,  1.29s/it]"
      }
     },
     "aed6847d948f4f55aaab4cc5098d3615": {
      "model_module": "@jupyter-widgets/base",
      "model_module_version": "1.2.0",
      "model_name": "LayoutModel",
      "state": {}
     },
     "aff5040b837b49bc9bdfc3180bd007a2": {
      "model_module": "@jupyter-widgets/base",
      "model_module_version": "1.2.0",
      "model_name": "LayoutModel",
      "state": {}
     },
     "b01fd642199244f2951baa39d7d2c85b": {
      "model_module": "@jupyter-widgets/controls",
      "model_module_version": "1.5.0",
      "model_name": "DescriptionStyleModel",
      "state": {
       "description_width": ""
      }
     },
     "b0eaf973d2574817beccba42dae44b9e": {
      "model_module": "@jupyter-widgets/controls",
      "model_module_version": "1.5.0",
      "model_name": "FloatProgressModel",
      "state": {
       "bar_style": "success",
       "layout": "IPY_MODEL_665ee33557c94aacb4036c661e0f8c90",
       "max": 19,
       "style": "IPY_MODEL_37489c5393bd4f02a40085313e718f09",
       "value": 19
      }
     },
     "b0f6ea596da343019f53d964dcb875ac": {
      "model_module": "@jupyter-widgets/controls",
      "model_module_version": "1.5.0",
      "model_name": "HTMLModel",
      "state": {
       "layout": "IPY_MODEL_54a5ca6011c64ea4a3a43305769de737",
       "style": "IPY_MODEL_d8fef70dd84747f69d56bd169404e7d8",
       "value": " 19/19 [00:15&lt;00:00,  1.28s/it]"
      }
     },
     "b615a8758a6a44e890a5c7900955d58e": {
      "model_module": "@jupyter-widgets/base",
      "model_module_version": "1.2.0",
      "model_name": "LayoutModel",
      "state": {}
     },
     "b7d94ba573da4f52b46f931d23c91b97": {
      "model_module": "@jupyter-widgets/controls",
      "model_module_version": "1.5.0",
      "model_name": "HTMLModel",
      "state": {
       "layout": "IPY_MODEL_d7891fe16a83492f8b8ce263a0e9f251",
       "style": "IPY_MODEL_4c4c1d2d617d430197971567de48ab63",
       "value": "<h5>Backend</h5>"
      }
     },
     "b8812dd43a2c4a139bc5ff6d242acbc2": {
      "model_module": "@jupyter-widgets/base",
      "model_module_version": "1.2.0",
      "model_name": "LayoutModel",
      "state": {}
     },
     "bcb286ab4b5c4326bfa95e7561d46b52": {
      "model_module": "@jupyter-widgets/controls",
      "model_module_version": "1.5.0",
      "model_name": "DescriptionStyleModel",
      "state": {
       "description_width": ""
      }
     },
     "bed56eca24c843f2acde831cdbc1f387": {
      "model_module": "@jupyter-widgets/base",
      "model_module_version": "1.2.0",
      "model_name": "LayoutModel",
      "state": {
       "margin": "0px 0px 10px 0px"
      }
     },
     "bfadc8afed37469dbe385235d7982008": {
      "model_module": "@jupyter-widgets/controls",
      "model_module_version": "1.5.0",
      "model_name": "ProgressStyleModel",
      "state": {
       "description_width": ""
      }
     },
     "c20cac611240432ca6cb2dd0b9a5812b": {
      "model_module": "@jupyter-widgets/controls",
      "model_module_version": "1.5.0",
      "model_name": "FloatProgressModel",
      "state": {
       "bar_style": "success",
       "layout": "IPY_MODEL_aff5040b837b49bc9bdfc3180bd007a2",
       "max": 19,
       "style": "IPY_MODEL_713d13fa1b594bc1a05d783df1e6ecf3",
       "value": 19
      }
     },
     "c581c3d9484742c6a64ca9a0cc27c3aa": {
      "model_module": "@jupyter-widgets/controls",
      "model_module_version": "1.5.0",
      "model_name": "DescriptionStyleModel",
      "state": {
       "description_width": ""
      }
     },
     "c6483e34fd73452f8de17a4eb21f9355": {
      "model_module": "@jupyter-widgets/controls",
      "model_module_version": "1.5.0",
      "model_name": "DescriptionStyleModel",
      "state": {
       "description_width": ""
      }
     },
     "c7b97669870b46d7a4970faf92789da5": {
      "model_module": "@jupyter-widgets/controls",
      "model_module_version": "1.5.0",
      "model_name": "DescriptionStyleModel",
      "state": {
       "description_width": ""
      }
     },
     "cc2da57ba01d4b8c9fa7710abfeb767c": {
      "model_module": "@jupyter-widgets/base",
      "model_module_version": "1.2.0",
      "model_name": "LayoutModel",
      "state": {}
     },
     "cd1c7d1e336841658a57915d78a69aa6": {
      "model_module": "@jupyter-widgets/base",
      "model_module_version": "1.2.0",
      "model_name": "LayoutModel",
      "state": {
       "margin": "0px 0px 0px 37px",
       "width": "600px"
      }
     },
     "d2ea5df448344e3f9226e9f4507b0696": {
      "model_module": "@jupyter-widgets/controls",
      "model_module_version": "1.5.0",
      "model_name": "HBoxModel",
      "state": {
       "children": [
        "IPY_MODEL_8e91d1057486424ea526261066f51668",
        "IPY_MODEL_b0eaf973d2574817beccba42dae44b9e",
        "IPY_MODEL_9f36996135a640238f10369fb92e31d9"
       ],
       "layout": "IPY_MODEL_6dbed0b825d742f385357fbce977bbad"
      }
     },
     "d4a32a31ffd6424da20f06785ba747fc": {
      "model_module": "@jupyter-widgets/controls",
      "model_module_version": "1.5.0",
      "model_name": "DescriptionStyleModel",
      "state": {
       "description_width": ""
      }
     },
     "d54bffc0e66846b1b6cae6ab4f50e04a": {
      "model_module": "@jupyter-widgets/base",
      "model_module_version": "1.2.0",
      "model_name": "LayoutModel",
      "state": {}
     },
     "d7891fe16a83492f8b8ce263a0e9f251": {
      "model_module": "@jupyter-widgets/base",
      "model_module_version": "1.2.0",
      "model_name": "LayoutModel",
      "state": {
       "width": "145px"
      }
     },
     "d8fef70dd84747f69d56bd169404e7d8": {
      "model_module": "@jupyter-widgets/controls",
      "model_module_version": "1.5.0",
      "model_name": "DescriptionStyleModel",
      "state": {
       "description_width": ""
      }
     },
     "d9d5f480475143f381fff267b5cd583e": {
      "model_module": "@jupyter-widgets/controls",
      "model_module_version": "1.5.0",
      "model_name": "FloatProgressModel",
      "state": {
       "bar_style": "success",
       "layout": "IPY_MODEL_0c6ea2fca4b34b67a852691c842fbbd0",
       "max": 19,
       "style": "IPY_MODEL_4e213e51158a4aff9c12d5b12a8b9e16",
       "value": 19
      }
     },
     "daecbc68db5540c4998c0512d51c62a2": {
      "model_module": "@jupyter-widgets/controls",
      "model_module_version": "1.5.0",
      "model_name": "DescriptionStyleModel",
      "state": {
       "description_width": ""
      }
     },
     "eabd05f3bfff4cada4ebbe21e197f066": {
      "model_module": "@jupyter-widgets/base",
      "model_module_version": "1.2.0",
      "model_name": "LayoutModel",
      "state": {}
     },
     "ec403b2585c64fa3bda720b13149467a": {
      "model_module": "@jupyter-widgets/controls",
      "model_module_version": "1.5.0",
      "model_name": "ProgressStyleModel",
      "state": {
       "description_width": ""
      }
     },
     "ee8880967198437e9f902924fc61a501": {
      "model_module": "@jupyter-widgets/controls",
      "model_module_version": "1.5.0",
      "model_name": "DescriptionStyleModel",
      "state": {
       "description_width": ""
      }
     },
     "f0865125a5c443ec9acbb4206e0d440f": {
      "model_module": "@jupyter-widgets/base",
      "model_module_version": "1.2.0",
      "model_name": "LayoutModel",
      "state": {}
     },
     "f14cbe1eef684ae2bddcf91e17fc8f8f": {
      "model_module": "@jupyter-widgets/controls",
      "model_module_version": "1.5.0",
      "model_name": "HBoxModel",
      "state": {
       "children": [
        "IPY_MODEL_9521df6b4b874cbe8f0184384a5c0da6",
        "IPY_MODEL_b7d94ba573da4f52b46f931d23c91b97",
        "IPY_MODEL_2cb795b030a541d88d402d5a62299397",
        "IPY_MODEL_7f434f6ba0ed4b4fb2501ca7bd1c4a20",
        "IPY_MODEL_9ac9b005eb77436cb977562f4ddcf4f0"
       ],
       "layout": "IPY_MODEL_cd1c7d1e336841658a57915d78a69aa6"
      }
     },
     "f1842add6a74462c88e3f45db4251f59": {
      "model_module": "@jupyter-widgets/base",
      "model_module_version": "1.2.0",
      "model_name": "LayoutModel",
      "state": {
       "grid_template_areas": "\n                                       \". . . . right \"\n                                        ",
       "grid_template_columns": "20% 20% 20% 20% 20%",
       "width": "100%"
      }
     },
     "f390402ce5244916803bd63f10d20442": {
      "model_module": "@jupyter-widgets/controls",
      "model_module_version": "1.5.0",
      "model_name": "DescriptionStyleModel",
      "state": {
       "description_width": ""
      }
     },
     "f436cd21995e42fdbe4f028fb53ee31b": {
      "model_module": "@jupyter-widgets/controls",
      "model_module_version": "1.5.0",
      "model_name": "DescriptionStyleModel",
      "state": {
       "description_width": ""
      }
     },
     "fc05184de60644bfa374ef6a30648eb7": {
      "model_module": "@jupyter-widgets/controls",
      "model_module_version": "1.5.0",
      "model_name": "DescriptionStyleModel",
      "state": {
       "description_width": ""
      }
     },
     "fec1ae0cb23a47249064469b5fbb2459": {
      "model_module": "@jupyter-widgets/base",
      "model_module_version": "1.2.0",
      "model_name": "LayoutModel",
      "state": {}
     }
    },
    "version_major": 2,
    "version_minor": 0
   }
  }
 },
 "nbformat": 4,
 "nbformat_minor": 5
}
