{
 "cells": [
  {
   "cell_type": "code",
   "execution_count": null,
   "id": "c703223f",
   "metadata": {},
   "outputs": [],
   "source": [
    "%load_ext autoreload\n",
    "%autoreload 2\n",
    "\n",
    "import numpy as np\n",
    "import matplotlib.pyplot as plt\n",
    "\n",
    "# Importing standard Qiskit libraries\n",
    "from qiskit import QuantumCircuit, QuantumRegister, transpile, Aer, IBMQ, execute\n",
    "from qiskit.tools.jupyter import *\n",
    "from qiskit.visualization import *\n",
    "from qiskit.providers.aer import QasmSimulator\n",
    "from tqdm.notebook import tqdm\n",
    "\n",
    "from qiskit.providers.aer import QasmSimulator\n",
    "from qiskit.tools.monitor import job_monitor\n",
    "from qiskit.circuit import Parameter\n",
    "import qiskit.quantum_info as qi\n",
    "\n",
    "from qc_grader.challenges.spring_2022.helpers import generate_disordered_tb_instruction\n",
    "\n",
    "# Suppress warnings\n",
    "import warnings\n",
    "warnings.filterwarnings('ignore')"
   ]
  },
  {
   "cell_type": "markdown",
   "id": "45d8bd07",
   "metadata": {},
   "source": [
    "## 다체 양자 동역학\n",
    "\n",
    "이번 연습에서는 격자 무질서와 입자-입자 상호작용을 알아보도록 하겠습니다. 비평형 상태에서 초기화된 닫힌 양자 다체 시스템은 자신의 동역학을 따라 열평형화(thermalization)라고 하는 평형 상태에 도달합니다. 이 것은 통계 역학 법칙의 결과로, 시간이 지남에 따라 뜨거운 한잔의 커피가 주변 온도에 맞춰 식는 것과 유사합니다.\n",
    "\n",
    "하지만, 격자 무질서의 존재는 시스템이 에르고딕(ergodic) 열평형화 상태로 진화하는 것을 방해합니다. 무질서와 입자의 상호작용 간의 이러한 상호작용은 MBL(다체 국소화, Many-body localization)을 초래하고 시스템이 항상 초기 상태의 기억을 유지할 수 있도록 합니다. MBL에 대한 자세한 내용은 [1]을 참조하십시오.\n",
    "\n",
    "임의의 격자점 에너지를 갖는 밀접 결합 해밀토니언을 다시 생각해 봅시다.\n",
    "\n",
    "$$H_{\\rm tb}/\\hbar = \\sum^{3}_{i=0} (X_i X_{i+1} + Y_i Y_{i+1}) + \\sum_i \\epsilon_i Z_i $$\n",
    "\n",
    "연습 2에서 살펴본 것처럼 $\\epsilon_i=W \\rm{cos}(2\\pi\\beta i)$로 설정하여 이 시스템에서 무질서를 흉내낼 수 있습니다. 여기서 $W$는 무질서 강도를 $\\beta$는 준결정 주기를 결정합니다. 유니테리 시간적 변화 이전에 여러 큐비트를 $|1\\rangle$ 상태로 초기화하여 시스템에 여러 개의 입자를 추가할 수 있습니다. $H_{\\rm tb}$에서 각 격자점은 하나의 입자만 차지할 수 있으므로 입자 반발(repulsion) 상호 작용이 발생합니다.\n",
    "\n",
    "[1] https://arxiv.org/abs/1804.11065"
   ]
  },
  {
   "cell_type": "markdown",
   "id": "466bd4ff",
   "metadata": {},
   "source": [
    "열평형화 붕괴의 징후 중 하나는 **불균형(imbalance)** 의 출현입니다. 열평형화된 시스템에서 격자의 각 격자점은 정상 상태에 도달한 후 동일한 평균적으로 동일한 수의 입자가 차지할 것으로 예상 할 수 있습니다. 그러나 상호 작용 시스템에 무질서가 추가되면 각 격자점에서 관찰된 열 값에 편차가 발생합니다. 시스템 불균형은 다음 식을 사용하여 양으로 나타낼 수 있습니다.\n",
    "\n",
    "$$\\mathcal{I}= \\langle (N_e-N_o)/(N_e+N_o) \\rangle$$\n",
    "\n",
    "여기서 $N_e$ 및 $N_o$는 시스템의 짝수 및 홀수 격자점의 밀도(population)입니다. 열평형화된 시스템의 경우 이 $\\mathcal{I}=0$이고 시스템 무질서로 인해 이 값에서 편차가 발생합니다."
   ]
  },
  {
   "cell_type": "markdown",
   "id": "2fa80bd7",
   "metadata": {},
   "source": [
    "<div class=\"alert alert-block alert-danger\">\n",
    "<b>도전 질문 3a</b>\n",
    "양자 상태의 불균형을 출력하는 함수 작성\n",
    "</div>"
   ]
  },
  {
   "cell_type": "code",
   "execution_count": null,
   "id": "2217a662",
   "metadata": {},
   "outputs": [],
   "source": [
    "def get_imbalance(state):\n",
    "    ###EDIT CODE BELOW\n",
    "    ### HINT: MAKE SURE TO SKIP CALCULATING IMBALANCE OF THE |00...0> STATE\n",
    "    imbalance_val=0\n",
    "    \n",
    "    \n",
    "    ###DO NOT EDIT BELOW\n",
    "    \n",
    "    return imbalance_val"
   ]
  },
  {
   "cell_type": "code",
   "execution_count": null,
   "id": "e9ddc530",
   "metadata": {},
   "outputs": [],
   "source": [
    "## Grade and submit your solution\n",
    "from qc_grader.challenges.spring_2022 import grade_ex3a\n",
    "\n",
    "grade_ex3a(get_imbalance) \n"
   ]
  },
  {
   "cell_type": "markdown",
   "id": "868cad3e",
   "metadata": {},
   "source": [
    "다음으로, 양자 정보와 얽힘 엔트로피가 시스템에서 어떻게 성장하는지 생각해 보겠습니다. 얽힌 시스템에서 나머지 시스템에 대한 정보를 무시하면 부분계는 서로 다른 수 상태(number state, Fock state)의 혼합 상태(mixed state)가 됩니다. **von Neumann 엔트로피** 를 조사하여 부분계 $A$와 나머지 시스템 간의 얽힘 정도에 대한 통찰을 얻을 수 있습니다.\n",
    "\n",
    "$$\\mathcal{S}_{\\rm vn}(\\rho_A)= -\\rm{tr}(\\rho_A \\rm{ln} \\rho_A)$$\n",
    "\n",
    "여기서 $\\rho_A= \\rm{tr} _{\\bar{A}} \\rho$는 시스템을 부분 대각합(trace out) 한 부분계 $A$를 설명하는 환산 밀도 행렬(reduced density matrix)입니다. 부분계 $A$가 나머지 시스템과 완전히 얽혀 있으면 $\\mathcal{S}_ {\\rm vn}(\\rho_A) = \\rm{ln}2$인 반면, 부분계가 주변 환경과 완전히 분리 가능한 경우(곱 상태 (product state), 분리 가능한 상태)인 경우 $\\mathcal{S}_{\\rm vn}(\\rho_A)=0$ 입니다. 다음 예를 살펴봅시다."
   ]
  },
  {
   "cell_type": "code",
   "execution_count": null,
   "id": "0813e81f",
   "metadata": {},
   "outputs": [],
   "source": [
    "bell_state = qi.Statevector(np.array([0,1,1,0])/np.sqrt(2))\n",
    "\n",
    "rho_0 = qi.partial_trace(bell_state,[1]) # We trace out qubit 1\n",
    "rho_1 = qi.partial_trace(bell_state,[0]) # We trace out qubit 0\n",
    "\n",
    "print('QB0 vn entropy: ', qi.entropy(rho_0, base=np.exp(1)))\n",
    "print('QB1 vn entropy: ', qi.entropy(rho_1, base=np.exp(1)))"
   ]
  },
  {
   "cell_type": "markdown",
   "id": "bec673a4",
   "metadata": {},
   "source": [
    "## 12 큐비트 체인에서 다체 양자 동역학 탐구\n",
    "\n",
    "이번 연습에서는 연습 2에서 이미 살펴본 것과 동일한 격자 무질서 패턴을 사용하도록 하겠습니다."
   ]
  },
  {
   "cell_type": "code",
   "execution_count": null,
   "id": "21cf2727",
   "metadata": {},
   "outputs": [],
   "source": [
    "t = Parameter('t')"
   ]
  },
  {
   "cell_type": "code",
   "execution_count": null,
   "id": "a40ea2b1",
   "metadata": {},
   "outputs": [],
   "source": [
    "num_qubits=12\n",
    "deltas=[Parameter('delta_{:d}'.format(idx)) for idx in range(num_qubits)]\n",
    "disorder_trot_step=generate_disordered_tb_instruction(t, deltas, num_qubits)"
   ]
  },
  {
   "cell_type": "code",
   "execution_count": null,
   "id": "d7c49f26",
   "metadata": {},
   "outputs": [],
   "source": [
    "# Here we define the disorder pattern\n",
    "\n",
    "beta=(np.sqrt(5)-1)/2 # DO NOT EDIT\n",
    "AA_pattern=np.cos(2*np.pi*beta*np.arange(num_qubits)) # DO NOT EDIT"
   ]
  },
  {
   "cell_type": "markdown",
   "id": "a5111abb",
   "metadata": {},
   "source": [
    "<div class=\"alert alert-block alert-danger\">\n",
    "<b>도전 질문 3b</b>\n",
    "큐비트 0, 4, 8을 $|1\\rangle$로 설정하여 시스템을 초기화합니다.\n",
    "</div>"
   ]
  },
  {
   "cell_type": "code",
   "execution_count": null,
   "id": "be3385be",
   "metadata": {},
   "outputs": [],
   "source": [
    "delta_t=0.1\n",
    "time_steps=np.arange(0,21,2)\n",
    "\n",
    "circuits={}\n",
    "Ws=[1,4,10]\n",
    "\n",
    "for W in Ws:\n",
    "    disorders=W*AA_pattern\n",
    "    \n",
    "    circuits[W]=[]\n",
    "\n",
    "    for n_steps in time_steps:\n",
    "\n",
    "        qr = QuantumRegister(num_qubits)\n",
    "        qc = QuantumCircuit(qr)\n",
    "\n",
    "        ###EDIT CODE BELOW\n",
    "        \n",
    "        \n",
    "        ###DO NOT EDIT BELOW     \n",
    "\n",
    "        for _ in range(n_steps):\n",
    "            qc.append(disorder_trot_step, [i for i in range(num_qubits)])\n",
    "        \n",
    "        if n_steps!=0:\n",
    "            qc = qc.bind_parameters({t: delta_t})\n",
    "            qc = qc.bind_parameters({deltas[idx]: disorders[idx] for idx in range(num_qubits)})\n",
    "\n",
    "        circuits[W].append(qc)"
   ]
  },
  {
   "cell_type": "markdown",
   "id": "7d39d4aa",
   "metadata": {},
   "source": [
    "<div class=\"alert alert-block alert-danger\">\n",
    "<b>도전 질문 3c</b>\n",
    "다양한 무질서 강도에 대하여 서로 다른 변화 시간 단계에서 큐비트 0의 von Neumann 엔트로피를 계산합니다.\n",
    "</div>"
   ]
  },
  {
   "cell_type": "markdown",
   "id": "96f87490",
   "metadata": {},
   "source": [
    "<div class=\"alert alert-block alert-danger\">\n",
    "<b>도전 질문 3d</b>\n",
    "다양한 무질서 강도에 대하여 다른 변화 시간 단계에서 격자의 불균형을 계산합니다.\n",
    "</div>"
   ]
  },
  {
   "cell_type": "code",
   "execution_count": null,
   "id": "042e9d4c",
   "metadata": {
    "scrolled": true
   },
   "outputs": [],
   "source": [
    "from qiskit import transpile\n",
    "\n",
    "# Use Aer's statevector simulator\\n\n",
    "from qiskit import Aer\n",
    "\n",
    "# Run the quantum circuit on a statevector simulator backend\n",
    "backend_sim = Aer.get_backend('statevector_simulator')\n",
    "\n",
    "probability_densities={}\n",
    "state_vector_imbalances={}\n",
    "vn_entropies={}\n",
    "\n",
    "for W in tqdm(Ws):\n",
    "    probability_densities[W]=[]\n",
    "    state_vector_imbalances[W]=[]\n",
    "    vn_entropies[W]=[]\n",
    "    \n",
    "    for circ in circuits[W]:\n",
    "\n",
    "        transpiled_circ=transpile(circ, backend_sim, optimization_level=3)\n",
    "\n",
    "        job_sim = backend_sim.run(transpiled_circ)\n",
    "\n",
    "        # Grab the results from the job.\n",
    "        result_sim = job_sim.result()\n",
    "        outputstate = result_sim.get_statevector(transpiled_circ, decimals=6)\n",
    "        ps=[]\n",
    "        for idx in range(num_qubits):\n",
    "            ps.append(np.abs(qi.partial_trace(outputstate,[i for i in range(num_qubits) if i!=idx]))[1,1]**2)\n",
    "        \n",
    "        entropy=0\n",
    "        ### EDIT CODE BELOW (extract the density matrix of qubit 0 by tracing out all other qubits)\n",
    "        \n",
    "        \n",
    "        ###DO NOT EDIT BELOW \n",
    "        \n",
    "        imbalance=0\n",
    "        ### EDIT CODE BELOW \n",
    "        \n",
    "        \n",
    "        ###DO NOT EDIT BELOW\n",
    "        \n",
    "        \n",
    "        vn_entropies[W].append(entropy)\n",
    "        probability_densities[W].append(ps)\n",
    "        state_vector_imbalances[W].append(imbalance)"
   ]
  },
  {
   "cell_type": "code",
   "execution_count": null,
   "id": "9f96b700",
   "metadata": {
    "scrolled": true
   },
   "outputs": [],
   "source": [
    "fig, axs = plt.subplots(1,3,figsize=(15,5), facecolor='white', sharey=True)\n",
    "\n",
    "for i,W in enumerate(Ws):\n",
    "    ax=axs[i]\n",
    "    ax.pcolormesh(np.arange(0,num_qubits+1,1)+0.5, time_steps*delta_t ,probability_densities[W])\n",
    "    ax.set_xlabel('Qubit index')\n",
    "    ax.set_xticks(np.arange(1,num_qubits+1,1))\n",
    "\n",
    "axs[0].set_ylabel('Time (1/J)')\n",
    "\n",
    "plt.show()"
   ]
  },
  {
   "cell_type": "code",
   "execution_count": null,
   "id": "ab903a18",
   "metadata": {},
   "outputs": [],
   "source": [
    "for W in Ws:\n",
    "    plt.plot(time_steps*delta_t,vn_entropies[W], '--o', label='W={:d}'.format(W))\n",
    "\n",
    "plt.xlabel(r'Time (1/J)')\n",
    "plt.ylabel(r'$\\mathcal{S}_{\\rm vn}(\\rho_0)$')\n",
    "plt.legend()\n",
    "plt.show()"
   ]
  },
  {
   "cell_type": "code",
   "execution_count": null,
   "id": "753aae05",
   "metadata": {},
   "outputs": [],
   "source": [
    "## Grade and submit your solution\n",
    "from qc_grader.challenges.spring_2022 import grade_ex3b\n",
    "\n",
    "grade_ex3b(vn_entropies)\n"
   ]
  },
  {
   "cell_type": "code",
   "execution_count": null,
   "id": "d1534693",
   "metadata": {},
   "outputs": [],
   "source": [
    "for W in Ws:\n",
    "    plt.plot(time_steps*delta_t,state_vector_imbalances[W], '--o', label='W={:d}'.format(W))\n",
    "\n",
    "plt.xlabel(r'Time (1/J)')\n",
    "plt.ylabel(r'$\\mathcal{I}$')\n",
    "plt.legend()"
   ]
  },
  {
   "cell_type": "code",
   "execution_count": null,
   "id": "6dc4b04b",
   "metadata": {},
   "outputs": [],
   "source": [
    "## Grade and submit your solution\n",
    "from qc_grader.challenges.spring_2022 import grade_ex3c\n",
    "\n",
    "grade_ex3c(state_vector_imbalances)\n"
   ]
  },
  {
   "cell_type": "markdown",
   "id": "61f7f392",
   "metadata": {},
   "source": [
    "## 추가 정보\n",
    "\n",
    "**한글화:** 김경훈, 신소영"
   ]
  },
  {
   "cell_type": "code",
   "execution_count": null,
   "id": "e2876aea",
   "metadata": {},
   "outputs": [],
   "source": []
  }
 ],
 "metadata": {
  "kernelspec": {
   "display_name": "Python 3 (ipykernel)",
   "language": "python",
   "name": "python3"
  },
  "language_info": {
   "codemirror_mode": {
    "name": "ipython",
    "version": 3
   },
   "file_extension": ".py",
   "mimetype": "text/x-python",
   "name": "python",
   "nbconvert_exporter": "python",
   "pygments_lexer": "ipython3",
   "version": "3.9.7"
  },
  "widgets": {
   "application/vnd.jupyter.widget-state+json": {
    "state": {
     "1c285db2a79a48cfa3df3c6eedf709c1": {
      "model_module": "@jupyter-widgets/base",
      "model_module_version": "1.2.0",
      "model_name": "LayoutModel",
      "state": {
       "grid_area": "right",
       "padding": "0px 0px 0px 0px",
       "width": "70px"
      }
     },
     "1d3308859d814b48967bc296e156cc49": {
      "model_module": "@jupyter-widgets/controls",
      "model_module_version": "1.5.0",
      "model_name": "DescriptionStyleModel",
      "state": {
       "description_width": ""
      }
     },
     "225e3e886a8e4a05b1d557410d8d2f7d": {
      "model_module": "@jupyter-widgets/controls",
      "model_module_version": "1.5.0",
      "model_name": "GridBoxModel",
      "state": {
       "children": [
        "IPY_MODEL_438c420e88b0466f99c5b6478009937b"
       ],
       "layout": "IPY_MODEL_560c05b76c3c4774a57157123a2ef602"
      }
     },
     "314897b457ad4bb8a83c0f94756ad0ac": {
      "model_module": "@jupyter-widgets/controls",
      "model_module_version": "1.5.0",
      "model_name": "HTMLModel",
      "state": {
       "layout": "IPY_MODEL_4e138c02b7a44500a353703ec0356e63",
       "style": "IPY_MODEL_80d4ec67b41b4bc0ad5f6b8ac4a8985a",
       "value": "<h5>Backend</h5>"
      }
     },
     "3410da806db942ba806f8f69cf19987e": {
      "model_module": "@jupyter-widgets/base",
      "model_module_version": "1.2.0",
      "model_name": "LayoutModel",
      "state": {
       "margin": "0px 0px 10px 0px"
      }
     },
     "357a3c4ad55b4dc4a0c4466b1cd0b31a": {
      "model_module": "@jupyter-widgets/controls",
      "model_module_version": "1.5.0",
      "model_name": "ButtonStyleModel",
      "state": {}
     },
     "3e7eafb5631840ddbe7f487abed01530": {
      "model_module": "@jupyter-widgets/controls",
      "model_module_version": "1.5.0",
      "model_name": "HBoxModel",
      "state": {
       "children": [
        "IPY_MODEL_ab161ee5dc814fffa81bd582cb88a191",
        "IPY_MODEL_314897b457ad4bb8a83c0f94756ad0ac",
        "IPY_MODEL_8774c96b6e074e60bea0db42e3939461",
        "IPY_MODEL_e2d5b8c36da44580a5ca2e029dcffd01",
        "IPY_MODEL_cc7b89e49db540db8f23db7c47c1248f"
       ],
       "layout": "IPY_MODEL_6733c053c01f4c0986cc613890ea998e"
      }
     },
     "438c420e88b0466f99c5b6478009937b": {
      "model_module": "@jupyter-widgets/controls",
      "model_module_version": "1.5.0",
      "model_name": "ButtonModel",
      "state": {
       "button_style": "primary",
       "description": "Clear",
       "layout": "IPY_MODEL_1c285db2a79a48cfa3df3c6eedf709c1",
       "style": "IPY_MODEL_357a3c4ad55b4dc4a0c4466b1cd0b31a"
      }
     },
     "4e138c02b7a44500a353703ec0356e63": {
      "model_module": "@jupyter-widgets/base",
      "model_module_version": "1.2.0",
      "model_name": "LayoutModel",
      "state": {
       "width": "145px"
      }
     },
     "560c05b76c3c4774a57157123a2ef602": {
      "model_module": "@jupyter-widgets/base",
      "model_module_version": "1.2.0",
      "model_name": "LayoutModel",
      "state": {
       "grid_template_areas": "\n                                       \". . . . right \"\n                                        ",
       "grid_template_columns": "20% 20% 20% 20% 20%",
       "width": "100%"
      }
     },
     "6733c053c01f4c0986cc613890ea998e": {
      "model_module": "@jupyter-widgets/base",
      "model_module_version": "1.2.0",
      "model_name": "LayoutModel",
      "state": {
       "margin": "0px 0px 0px 37px",
       "width": "600px"
      }
     },
     "80d4ec67b41b4bc0ad5f6b8ac4a8985a": {
      "model_module": "@jupyter-widgets/controls",
      "model_module_version": "1.5.0",
      "model_name": "DescriptionStyleModel",
      "state": {
       "description_width": ""
      }
     },
     "82d9481b88b6403681d83238fefb9822": {
      "model_module": "@jupyter-widgets/controls",
      "model_module_version": "1.5.0",
      "model_name": "HTMLModel",
      "state": {
       "layout": "IPY_MODEL_3410da806db942ba806f8f69cf19987e",
       "style": "IPY_MODEL_1d3308859d814b48967bc296e156cc49",
       "value": "<p style='font-family: IBM Plex Sans, Arial, Helvetica, sans-serif; font-size: 20px; font-weight: medium;'>Circuit Properties</p>"
      }
     },
     "86d30b611f3842e2ac56083c13f5cdb2": {
      "model_module": "@jupyter-widgets/controls",
      "model_module_version": "1.5.0",
      "model_name": "DescriptionStyleModel",
      "state": {
       "description_width": ""
      }
     },
     "8774c96b6e074e60bea0db42e3939461": {
      "model_module": "@jupyter-widgets/controls",
      "model_module_version": "1.5.0",
      "model_name": "HTMLModel",
      "state": {
       "layout": "IPY_MODEL_8e2d2bb8cb664fee8e92cbcb92037a34",
       "style": "IPY_MODEL_f3f0282976c64ddf969e8a0b7c64017e",
       "value": "<h5>Status</h5>"
      }
     },
     "8e2d2bb8cb664fee8e92cbcb92037a34": {
      "model_module": "@jupyter-widgets/base",
      "model_module_version": "1.2.0",
      "model_name": "LayoutModel",
      "state": {
       "width": "95px"
      }
     },
     "9027743494584fde831af0bfa574315b": {
      "model_module": "@jupyter-widgets/base",
      "model_module_version": "1.2.0",
      "model_name": "LayoutModel",
      "state": {
       "width": "70px"
      }
     },
     "9d8dce191d4f44cf8a10a44c941f833d": {
      "model_module": "@jupyter-widgets/base",
      "model_module_version": "1.2.0",
      "model_name": "LayoutModel",
      "state": {}
     },
     "ab161ee5dc814fffa81bd582cb88a191": {
      "model_module": "@jupyter-widgets/controls",
      "model_module_version": "1.5.0",
      "model_name": "HTMLModel",
      "state": {
       "layout": "IPY_MODEL_af16e39862994a8fa70c9f0b17669856",
       "style": "IPY_MODEL_cbc5f269675f4aa1b066b52b7c5e23c9",
       "value": "<h5>Job ID</h5>"
      }
     },
     "af16e39862994a8fa70c9f0b17669856": {
      "model_module": "@jupyter-widgets/base",
      "model_module_version": "1.2.0",
      "model_name": "LayoutModel",
      "state": {
       "width": "190px"
      }
     },
     "cbc5f269675f4aa1b066b52b7c5e23c9": {
      "model_module": "@jupyter-widgets/controls",
      "model_module_version": "1.5.0",
      "model_name": "DescriptionStyleModel",
      "state": {
       "description_width": ""
      }
     },
     "cc7b89e49db540db8f23db7c47c1248f": {
      "model_module": "@jupyter-widgets/controls",
      "model_module_version": "1.5.0",
      "model_name": "HTMLModel",
      "state": {
       "layout": "IPY_MODEL_9d8dce191d4f44cf8a10a44c941f833d",
       "style": "IPY_MODEL_f2b9689cdd6243a89f082505850e3d10",
       "value": "<h5>Message</h5>"
      }
     },
     "e2d5b8c36da44580a5ca2e029dcffd01": {
      "model_module": "@jupyter-widgets/controls",
      "model_module_version": "1.5.0",
      "model_name": "HTMLModel",
      "state": {
       "layout": "IPY_MODEL_9027743494584fde831af0bfa574315b",
       "style": "IPY_MODEL_86d30b611f3842e2ac56083c13f5cdb2",
       "value": "<h5>Queue</h5>"
      }
     },
     "f2b9689cdd6243a89f082505850e3d10": {
      "model_module": "@jupyter-widgets/controls",
      "model_module_version": "1.5.0",
      "model_name": "DescriptionStyleModel",
      "state": {
       "description_width": ""
      }
     },
     "f3f0282976c64ddf969e8a0b7c64017e": {
      "model_module": "@jupyter-widgets/controls",
      "model_module_version": "1.5.0",
      "model_name": "DescriptionStyleModel",
      "state": {
       "description_width": ""
      }
     }
    },
    "version_major": 2,
    "version_minor": 0
   }
  }
 },
 "nbformat": 4,
 "nbformat_minor": 5
}
