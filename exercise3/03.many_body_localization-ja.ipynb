{
 "cells": [
  {
   "cell_type": "code",
   "execution_count": null,
   "metadata": {},
   "outputs": [],
   "source": [
    "import numpy as np\n",
    "import matplotlib.pyplot as plt\n",
    "\n",
    "# Importing standard Qiskit libraries\n",
    "from qiskit import QuantumCircuit, QuantumRegister, transpile, Aer, IBMQ, execute\n",
    "from qiskit.tools.jupyter import *\n",
    "from qiskit.visualization import *\n",
    "from qiskit.providers.aer import QasmSimulator\n",
    "from tqdm.notebook import tqdm\n",
    "\n",
    "from qiskit.providers.aer import QasmSimulator\n",
    "from qiskit.tools.monitor import job_monitor\n",
    "from qiskit.circuit import Parameter\n",
    "import qiskit.quantum_info as qi\n",
    "\n",
    "from qc_grader.challenges.spring_2022.helpers import generate_disordered_tb_instruction\n",
    "\n",
    "# Suppress warnings\n",
    "import warnings\n",
    "warnings.filterwarnings('ignore')"
   ]
  },
  {
   "cell_type": "markdown",
   "metadata": {},
   "source": [
    "## 多体系量子力学\n",
    "\n",
    "このExerciseでは、格子の無秩序性（乱れ）と格子間の相互作用を調べていきます。\n",
    "非平衡に初期化された閉じた量子多体系では、それ自身のダイナミクスの下で熱化と呼ばれる平衡状態に到達します。この振る舞いは、統計力学の法則による結果として、ホットコーヒーを置きっぱなしにしたとき、冷めていって周囲の温度に到達するのと同じです。\n",
    "\n",
    "しかし、格子の乱れの存在により、系がエルゴード熱平衡状態へ変化するのが妨げられます。\n",
    "これによって、乱れと粒子の相互作用との間での相互作用の結果、多体局在( many-body localization, MBL)となり、つまり、系が常に初期状態を記憶しておくことになります。MBLについてのより詳細な情報は[1]を参照ください。\n",
    "\n",
    "任意の格子エネルギーにおける強結合ハミルトニアンを再び考えます：\n",
    "\n",
    "$$H_{\\rm tb}/\\hbar = \\sum^{3}_{i=0} (X_i X_{i+1} + Y_i Y_{i+1}) + \\sum_i \\epsilon_i Z_i $$\n",
    "\n",
    "Exercise 2で学んだように、この系における無秩序性を$\\epsilon_i=W \\rm{cos}(2\\pi\\beta i)$とおくことで模倣することができます。ここで、$W$は無秩序性の強さ、$\\beta$は準結晶の周期性を決定します。\n",
    "系に複数の粒子を追加するには、ユニタリー時間発展の前に粒子を$|1\\rangle$状態に初期化します。\n",
    "$H_{\\rm tb}$の下では、各格子点は、それぞれ一つの格子で占有され、その結果、粒子の反発相互作用が生じます。\n",
    "\n",
    "[1] https://arxiv.org/abs/1804.11065"
   ]
  },
  {
   "cell_type": "markdown",
   "metadata": {},
   "source": [
    "熱平衡化の破れの兆候の一つは、 **不均衡** が生じることです。\n",
    "熱平衡システムにおいては、平衡状態に到達すると、各格子点は等しい平均粒子数によって占有されることが期待されますが、相互作用のある系に乱れを加えると、各格子点で観測された熱の値から偏差が発生します。この系の不均衡は、以下の式によって定量化できます。\n",
    "\n",
    "$$\\mathcal{I}= \\langle (N_e-N_o)/(N_e+N_o) \\rangle$$\n",
    "\n",
    "ここで、$N_e$ と $N_o$は、系の偶数の格子と奇数の格子の占有数です。熱平衡システムでは、$\\mathcal{I}=0$となり、系の乱れがこの値からの偏差を生じます。"
   ]
  },
  {
   "cell_type": "markdown",
   "metadata": {},
   "source": [
    "いくつかの例を考えてみましょう：\n",
    "\n",
    "1. $ |\\psi\\rangle = |0111\\rangle $: \n",
    "\\begin{align*}\n",
    "\\langle \\psi | N_e | \\psi \\rangle &= 1 \\\\\n",
    "\\langle \\psi | N_o | \\psi \\rangle &= 2 \\\\\n",
    "\\mathcal{I} = \\langle \\psi |  (N_e-N_o)/(N_e+N_o) | \\psi \\rangle &= -1/3\n",
    "\\end{align*}\n",
    "\n",
    "2. $ |\\psi\\rangle = \\sqrt{2/3} |0111\\rangle + \\sqrt{1/3} |1011\\rangle $: \n",
    "$$ \\langle \\psi |  \\mathcal{I} | \\psi \\rangle = 2/3 * \\langle 0111 |  \\mathcal{I} |0111\\rangle + 1/3 * \\langle 1011 |  \\mathcal{I} |1011\\rangle $$\n",
    "\\begin{align*}\n",
    "\\langle 0111 |  \\mathcal{I} |0111\\rangle &= -1/3 \\\\\n",
    "\\langle 1011 |  \\mathcal{I} |1011\\rangle &= 1/3 \\\\\n",
    " \\langle \\psi |  \\mathcal{I} | \\psi \\rangle &= -1/9\n",
    "\\end{align*}"
   ]
  },
  {
   "cell_type": "markdown",
   "metadata": {},
   "source": [
    "<div class=\"alert alert-block alert-danger\">\n",
    "    \n",
    "<b>Challenge question 3a</b> \n",
    "\n",
    "量子状態の不均衡を出力する関数を書いてください。\n",
    "    \n",
    "</div>"
   ]
  },
  {
   "cell_type": "code",
   "execution_count": null,
   "metadata": {},
   "outputs": [],
   "source": [
    "def get_imbalance(state):\n",
    "    ###EDIT CODE BELOW\n",
    "    ### HINT: MAKE SURE TO SKIP CALCULATING IMBALANCE OF THE |00...0> STATE\n",
    "    imbalance_val=0\n",
    "    \n",
    "    \n",
    "    ###DO NOT EDIT BELOW\n",
    "    \n",
    "    return imbalance_val"
   ]
  },
  {
   "cell_type": "code",
   "execution_count": null,
   "metadata": {},
   "outputs": [],
   "source": [
    "## Grade and submit your solution\n",
    "from qc_grader.challenges.spring_2022 import grade_ex3a\n",
    "\n",
    "grade_ex3a(get_imbalance) \n"
   ]
  },
  {
   "cell_type": "markdown",
   "metadata": {},
   "source": [
    "次に、量子情報とエンタングルメント・エントロピーが系においてどのように成長するかを考えます。\n",
    "エンタングルした系では、系がそのままでいるための情報を無視することで部分系を異なる数の状態の混合状態になります。 部分系$A$と残りの系の間のエンタングルメントの度合いに洞察を得ることで**フォン・ノイマン・エントロピー** を調べられます：\n",
    "\n",
    "$$\\mathcal{S}_{\\rm vn}(\\rho_A)= -\\rm{tr}(\\rho_A \\rm{ln} \\rho_A)$$\n",
    " \n",
    "ここで、$\\rho_A= \\rm{tr}_{\\bar{A}} \\rho$は、系の残りをトレースアウトしたときの部分系$A$を記述する縮約密度行列です。部分系$A$が、系の残りと完全にエンタングルしているとき、$\\mathcal{S}_{\\rm vn}(\\rho_A) = \\rm{ln}2$となり、またその環境において（積状態において）完全に分解できるとき$\\mathcal{S}_{\\rm vn}(\\rho_A)=0$です。以下の例を考えてみてください："
   ]
  },
  {
   "cell_type": "code",
   "execution_count": null,
   "metadata": {},
   "outputs": [],
   "source": [
    "bell_state = qi.Statevector(np.array([0,1,1,0])/np.sqrt(2))\n",
    "\n",
    "rho_0 = qi.partial_trace(bell_state,[1]) # We trance out qubit 1\n",
    "rho_1 = qi.partial_trace(bell_state,[0]) # We trace out qubit 0\n",
    "\n",
    "print('QB0 vn entropy: ', qi.entropy(rho_0, base=np.exp(1)))\n",
    "print('QB1 vn entropy: ', qi.entropy(rho_1, base=np.exp(1)))"
   ]
  },
  {
   "cell_type": "markdown",
   "metadata": {},
   "source": [
    "## 12量子ビット鎖において多体量子力学を調べる\n",
    "\n",
    "Exerciseのこのパートでは、Exercise 2で調べた格子の乱れのパターンと同じものを使います。"
   ]
  },
  {
   "cell_type": "code",
   "execution_count": null,
   "metadata": {},
   "outputs": [],
   "source": [
    "t = Parameter('t')"
   ]
  },
  {
   "cell_type": "code",
   "execution_count": null,
   "metadata": {},
   "outputs": [],
   "source": [
    "num_qubits=12\n",
    "deltas=[Parameter('delta_{:d}'.format(idx)) for idx in range(num_qubits)]\n",
    "disorder_trot_step=generate_disordered_tb_instruction(t, deltas, num_qubits)"
   ]
  },
  {
   "cell_type": "code",
   "execution_count": null,
   "metadata": {},
   "outputs": [],
   "source": [
    "# Here we define the disorder pattern\n",
    "\n",
    "beta=(np.sqrt(5)-1)/2 # DO NOT EDIT\n",
    "AA_pattern=np.cos(2*np.pi*beta*np.arange(num_qubits)) # DO NOT EDIT"
   ]
  },
  {
   "cell_type": "markdown",
   "metadata": {},
   "source": [
    "<div class=\"alert alert-block alert-danger\">\n",
    "    \n",
    "<b>Challenge question 3b</b> \n",
    "\n",
    "qubits 0, 4, 8 を$|1\\rangle$に設定することで系を初期化してください。\n",
    "    \n",
    "</div>"
   ]
  },
  {
   "cell_type": "code",
   "execution_count": null,
   "metadata": {},
   "outputs": [],
   "source": [
    "delta_t=0.1\n",
    "time_steps=np.arange(0,21,2)\n",
    "\n",
    "circuits={}\n",
    "Ws=[1,4,10]\n",
    "\n",
    "for W in Ws:\n",
    "    disorders=W*AA_pattern\n",
    "    \n",
    "    circuits[W]=[]\n",
    "\n",
    "    for n_steps in time_steps:\n",
    "\n",
    "        qr = QuantumRegister(num_qubits)\n",
    "        qc = QuantumCircuit(qr)\n",
    "\n",
    "        ###EDIT CODE BELOW\n",
    "        \n",
    "        \n",
    "        ###DO NOT EDIT BELOW     \n",
    "\n",
    "        for _ in range(n_steps):\n",
    "            qc.append(disorder_trot_step, [i for i in range(num_qubits)])\n",
    "        \n",
    "        if n_steps!=0:\n",
    "            qc = qc.bind_parameters({t: delta_t})\n",
    "            qc = qc.bind_parameters({deltas[idx]: disorders[idx] for idx in range(num_qubits)})\n",
    "\n",
    "        circuits[W].append(qc)"
   ]
  },
  {
   "cell_type": "markdown",
   "metadata": {},
   "source": [
    "<div class=\"alert alert-block alert-danger\">\n",
    "    \n",
    "<b>Challenge question 3c</b> \n",
    "\n",
    "乱れの強さを変化させ、それぞれの時間発展のステップにおいて、qubit 0 のフォン・ノイマン・エントロピーを取り出してください。\n",
    "    \n",
    "</div>"
   ]
  },
  {
   "cell_type": "markdown",
   "metadata": {},
   "source": [
    "<div class=\"alert alert-block alert-danger\">\n",
    "    \n",
    "<b>Challenge question 3d</b> \n",
    "\n",
    "乱れの強さを変化させ、それぞれの時間発展のステップにおいて、格子の不平衡を取り出してください。\n",
    "    \n",
    "</div>"
   ]
  },
  {
   "cell_type": "code",
   "execution_count": null,
   "metadata": {
    "scrolled": true
   },
   "outputs": [],
   "source": [
    "from qiskit import transpile\n",
    "\n",
    "# Use Aer's statevector simulator\n",
    "from qiskit import Aer\n",
    "\n",
    "# Run the quantum circuit on a statevector simulator backend\n",
    "backend_sim = Aer.get_backend('statevector_simulator')\n",
    "\n",
    "probability_densities={}\n",
    "state_vector_imbalances={}\n",
    "vn_entropies={}\n",
    "\n",
    "for W in tqdm(Ws):\n",
    "    probability_densities[W]=[]\n",
    "    state_vector_imbalances[W]=[]\n",
    "    vn_entropies[W]=[]\n",
    "    \n",
    "    for circ in circuits[W]:\n",
    "\n",
    "        transpiled_circ=transpile(circ, backend_sim, optimization_level=3)\n",
    "\n",
    "        job_sim = backend_sim.run(transpiled_circ)\n",
    "\n",
    "        # Grab the results from the job.\n",
    "        result_sim = job_sim.result()\n",
    "        outputstate = result_sim.get_statevector(transpiled_circ, decimals=6)\n",
    "        ps=[]\n",
    "        for idx in range(num_qubits):\n",
    "            ps.append(np.abs(qi.partial_trace(outputstate,[i for i in range(num_qubits) if i!=idx]))[1,1]**2)\n",
    "        \n",
    "        entropy=0\n",
    "        ### EDIT CODE BELOW (extract the density matrix of qubit 0 by tracing out all other qubits)\n",
    "        \n",
    "        \n",
    "        ###DO NOT EDIT BELOW \n",
    "        \n",
    "        imbalance=0\n",
    "        ### EDIT CODE BELOW \n",
    "        \n",
    "        \n",
    "        ###DO NOT EDIT BELOW\n",
    "        \n",
    "        \n",
    "        vn_entropies[W].append(entropy)\n",
    "        probability_densities[W].append(ps)\n",
    "        state_vector_imbalances[W].append(imbalance)"
   ]
  },
  {
   "cell_type": "code",
   "execution_count": null,
   "metadata": {
    "scrolled": true
   },
   "outputs": [],
   "source": [
    "fig, axs = plt.subplots(1,3,figsize=(15,5), facecolor='white', sharey=True)\n",
    "\n",
    "for i,W in enumerate(Ws):\n",
    "    ax=axs[i]\n",
    "    ax.pcolormesh(np.arange(0,num_qubits,1), time_steps*delta_t ,probability_densities[W])\n",
    "    ax.set_xlabel('Qubit index')\n",
    "    ax.set_xticks(np.arange(1,num_qubits+1,1))\n",
    "\n",
    "axs[0].set_ylabel('Time (1/J)')\n",
    "\n",
    "plt.show()"
   ]
  },
  {
   "cell_type": "code",
   "execution_count": null,
   "metadata": {},
   "outputs": [],
   "source": [
    "for W in Ws:\n",
    "    plt.plot(time_steps*delta_t,vn_entropies[W], '--o', label='W={:d}'.format(W))\n",
    "\n",
    "plt.xlabel(r'Time (1/J)')\n",
    "plt.ylabel(r'$\\mathcal{S}_{\\rm vn}(\\rho_0)$')\n",
    "plt.legend()\n",
    "plt.show()"
   ]
  },
  {
   "cell_type": "code",
   "execution_count": null,
   "metadata": {},
   "outputs": [],
   "source": [
    "## Grade and submit your solution\n",
    "from qc_grader.challenges.spring_2022 import grade_ex3b\n",
    "\n",
    "grade_ex3b(vn_entropies)\n"
   ]
  },
  {
   "cell_type": "code",
   "execution_count": null,
   "metadata": {},
   "outputs": [],
   "source": [
    "for W in Ws:\n",
    "    plt.plot(time_steps*delta_t,state_vector_imbalances[W], '--o', label='W={:d}'.format(W))\n",
    "\n",
    "plt.xlabel(r'Time (1/J)')\n",
    "plt.ylabel(r'$\\mathcal{I}$')\n",
    "plt.legend()\n",
    "plt.show()"
   ]
  },
  {
   "cell_type": "code",
   "execution_count": null,
   "metadata": {},
   "outputs": [],
   "source": [
    "## Grade and submit your solution\n",
    "from qc_grader.challenges.spring_2022 import grade_ex3c\n",
    "\n",
    "grade_ex3c(state_vector_imbalances)\n"
   ]
  }
 ],
 "metadata": {
  "kernelspec": {
   "display_name": "Python 3",
   "language": "python",
   "name": "python3"
  },
  "language_info": {
   "codemirror_mode": {
    "name": "ipython",
    "version": 3
   },
   "file_extension": ".py",
   "mimetype": "text/x-python",
   "name": "python",
   "nbconvert_exporter": "python",
   "pygments_lexer": "ipython3",
   "version": "3.8.5"
  },
  "widgets": {
   "application/vnd.jupyter.widget-state+json": {
    "state": {
     "1c285db2a79a48cfa3df3c6eedf709c1": {
      "model_module": "@jupyter-widgets/base",
      "model_module_version": "1.2.0",
      "model_name": "LayoutModel",
      "state": {
       "grid_area": "right",
       "padding": "0px 0px 0px 0px",
       "width": "70px"
      }
     },
     "1d3308859d814b48967bc296e156cc49": {
      "model_module": "@jupyter-widgets/controls",
      "model_module_version": "1.5.0",
      "model_name": "DescriptionStyleModel",
      "state": {
       "description_width": ""
      }
     },
     "225e3e886a8e4a05b1d557410d8d2f7d": {
      "model_module": "@jupyter-widgets/controls",
      "model_module_version": "1.5.0",
      "model_name": "GridBoxModel",
      "state": {
       "children": [
        "IPY_MODEL_438c420e88b0466f99c5b6478009937b"
       ],
       "layout": "IPY_MODEL_560c05b76c3c4774a57157123a2ef602"
      }
     },
     "314897b457ad4bb8a83c0f94756ad0ac": {
      "model_module": "@jupyter-widgets/controls",
      "model_module_version": "1.5.0",
      "model_name": "HTMLModel",
      "state": {
       "layout": "IPY_MODEL_4e138c02b7a44500a353703ec0356e63",
       "style": "IPY_MODEL_80d4ec67b41b4bc0ad5f6b8ac4a8985a",
       "value": "<h5>Backend</h5>"
      }
     },
     "3410da806db942ba806f8f69cf19987e": {
      "model_module": "@jupyter-widgets/base",
      "model_module_version": "1.2.0",
      "model_name": "LayoutModel",
      "state": {
       "margin": "0px 0px 10px 0px"
      }
     },
     "357a3c4ad55b4dc4a0c4466b1cd0b31a": {
      "model_module": "@jupyter-widgets/controls",
      "model_module_version": "1.5.0",
      "model_name": "ButtonStyleModel",
      "state": {}
     },
     "3e7eafb5631840ddbe7f487abed01530": {
      "model_module": "@jupyter-widgets/controls",
      "model_module_version": "1.5.0",
      "model_name": "HBoxModel",
      "state": {
       "children": [
        "IPY_MODEL_ab161ee5dc814fffa81bd582cb88a191",
        "IPY_MODEL_314897b457ad4bb8a83c0f94756ad0ac",
        "IPY_MODEL_8774c96b6e074e60bea0db42e3939461",
        "IPY_MODEL_e2d5b8c36da44580a5ca2e029dcffd01",
        "IPY_MODEL_cc7b89e49db540db8f23db7c47c1248f"
       ],
       "layout": "IPY_MODEL_6733c053c01f4c0986cc613890ea998e"
      }
     },
     "438c420e88b0466f99c5b6478009937b": {
      "model_module": "@jupyter-widgets/controls",
      "model_module_version": "1.5.0",
      "model_name": "ButtonModel",
      "state": {
       "button_style": "primary",
       "description": "Clear",
       "layout": "IPY_MODEL_1c285db2a79a48cfa3df3c6eedf709c1",
       "style": "IPY_MODEL_357a3c4ad55b4dc4a0c4466b1cd0b31a"
      }
     },
     "4e138c02b7a44500a353703ec0356e63": {
      "model_module": "@jupyter-widgets/base",
      "model_module_version": "1.2.0",
      "model_name": "LayoutModel",
      "state": {
       "width": "145px"
      }
     },
     "560c05b76c3c4774a57157123a2ef602": {
      "model_module": "@jupyter-widgets/base",
      "model_module_version": "1.2.0",
      "model_name": "LayoutModel",
      "state": {
       "grid_template_areas": "\n                                       \". . . . right \"\n                                        ",
       "grid_template_columns": "20% 20% 20% 20% 20%",
       "width": "100%"
      }
     },
     "6733c053c01f4c0986cc613890ea998e": {
      "model_module": "@jupyter-widgets/base",
      "model_module_version": "1.2.0",
      "model_name": "LayoutModel",
      "state": {
       "margin": "0px 0px 0px 37px",
       "width": "600px"
      }
     },
     "80d4ec67b41b4bc0ad5f6b8ac4a8985a": {
      "model_module": "@jupyter-widgets/controls",
      "model_module_version": "1.5.0",
      "model_name": "DescriptionStyleModel",
      "state": {
       "description_width": ""
      }
     },
     "82d9481b88b6403681d83238fefb9822": {
      "model_module": "@jupyter-widgets/controls",
      "model_module_version": "1.5.0",
      "model_name": "HTMLModel",
      "state": {
       "layout": "IPY_MODEL_3410da806db942ba806f8f69cf19987e",
       "style": "IPY_MODEL_1d3308859d814b48967bc296e156cc49",
       "value": "<p style='font-family: IBM Plex Sans, Arial, Helvetica, sans-serif; font-size: 20px; font-weight: medium;'>Circuit Properties</p>"
      }
     },
     "86d30b611f3842e2ac56083c13f5cdb2": {
      "model_module": "@jupyter-widgets/controls",
      "model_module_version": "1.5.0",
      "model_name": "DescriptionStyleModel",
      "state": {
       "description_width": ""
      }
     },
     "8774c96b6e074e60bea0db42e3939461": {
      "model_module": "@jupyter-widgets/controls",
      "model_module_version": "1.5.0",
      "model_name": "HTMLModel",
      "state": {
       "layout": "IPY_MODEL_8e2d2bb8cb664fee8e92cbcb92037a34",
       "style": "IPY_MODEL_f3f0282976c64ddf969e8a0b7c64017e",
       "value": "<h5>Status</h5>"
      }
     },
     "8e2d2bb8cb664fee8e92cbcb92037a34": {
      "model_module": "@jupyter-widgets/base",
      "model_module_version": "1.2.0",
      "model_name": "LayoutModel",
      "state": {
       "width": "95px"
      }
     },
     "9027743494584fde831af0bfa574315b": {
      "model_module": "@jupyter-widgets/base",
      "model_module_version": "1.2.0",
      "model_name": "LayoutModel",
      "state": {
       "width": "70px"
      }
     },
     "9d8dce191d4f44cf8a10a44c941f833d": {
      "model_module": "@jupyter-widgets/base",
      "model_module_version": "1.2.0",
      "model_name": "LayoutModel",
      "state": {}
     },
     "ab161ee5dc814fffa81bd582cb88a191": {
      "model_module": "@jupyter-widgets/controls",
      "model_module_version": "1.5.0",
      "model_name": "HTMLModel",
      "state": {
       "layout": "IPY_MODEL_af16e39862994a8fa70c9f0b17669856",
       "style": "IPY_MODEL_cbc5f269675f4aa1b066b52b7c5e23c9",
       "value": "<h5>Job ID</h5>"
      }
     },
     "af16e39862994a8fa70c9f0b17669856": {
      "model_module": "@jupyter-widgets/base",
      "model_module_version": "1.2.0",
      "model_name": "LayoutModel",
      "state": {
       "width": "190px"
      }
     },
     "cbc5f269675f4aa1b066b52b7c5e23c9": {
      "model_module": "@jupyter-widgets/controls",
      "model_module_version": "1.5.0",
      "model_name": "DescriptionStyleModel",
      "state": {
       "description_width": ""
      }
     },
     "cc7b89e49db540db8f23db7c47c1248f": {
      "model_module": "@jupyter-widgets/controls",
      "model_module_version": "1.5.0",
      "model_name": "HTMLModel",
      "state": {
       "layout": "IPY_MODEL_9d8dce191d4f44cf8a10a44c941f833d",
       "style": "IPY_MODEL_f2b9689cdd6243a89f082505850e3d10",
       "value": "<h5>Message</h5>"
      }
     },
     "e2d5b8c36da44580a5ca2e029dcffd01": {
      "model_module": "@jupyter-widgets/controls",
      "model_module_version": "1.5.0",
      "model_name": "HTMLModel",
      "state": {
       "layout": "IPY_MODEL_9027743494584fde831af0bfa574315b",
       "style": "IPY_MODEL_86d30b611f3842e2ac56083c13f5cdb2",
       "value": "<h5>Queue</h5>"
      }
     },
     "f2b9689cdd6243a89f082505850e3d10": {
      "model_module": "@jupyter-widgets/controls",
      "model_module_version": "1.5.0",
      "model_name": "DescriptionStyleModel",
      "state": {
       "description_width": ""
      }
     },
     "f3f0282976c64ddf969e8a0b7c64017e": {
      "model_module": "@jupyter-widgets/controls",
      "model_module_version": "1.5.0",
      "model_name": "DescriptionStyleModel",
      "state": {
       "description_width": ""
      }
     }
    },
    "version_major": 2,
    "version_minor": 0
   }
  }
 },
 "nbformat": 4,
 "nbformat_minor": 5
}
